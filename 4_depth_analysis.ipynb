{
 "cells": [
  {
   "cell_type": "code",
   "execution_count": 1,
   "id": "catholic-wisconsin",
   "metadata": {},
   "outputs": [],
   "source": [
    "import numpy as np\n",
    "import pandas as pd\n",
    "from datetime import datetime, timedelta\n",
    "from tqdm import tqdm\n",
    "from collections import defaultdict, Counter\n",
    "import _pickle as pickle\n",
    "import random\n",
    "from sklearn.ensemble import RandomForestClassifier\n",
    "import matplotlib.pyplot as plt\n",
    "import seaborn as sns\n",
    "from sklearn.metrics import roc_curve, auc"
   ]
  },
  {
   "cell_type": "code",
   "execution_count": 2,
   "id": "linear-determination",
   "metadata": {},
   "outputs": [],
   "source": [
    "demographic_matrix = pickle.load(open('data/demographic_matrix.p', 'rb'))\n",
    "demographic_variables = pickle.load(open('data/demographic_variables.p', 'rb'))\n",
    "datetime_matrix = pickle.load(open('data/datetime_matrix.p', 'rb'))\n",
    "datetime_variables = pickle.load(open('data/datetime_variables.p', 'rb'))\n",
    "diag_matrix = pickle.load(open('data/diag_matrix.p', 'rb'))\n",
    "diag_variables = pickle.load(open('data/diag_variables.p', 'rb'))\n",
    "negative_training_set = pickle.load(open('data/negative_training_set.p', 'rb'))\n",
    "positive_training_set = pickle.load(open('data/positive_training_set.p', 'rb'))"
   ]
  },
  {
   "cell_type": "code",
   "execution_count": 3,
   "id": "increasing-connecticut",
   "metadata": {
    "scrolled": false
   },
   "outputs": [],
   "source": [
    "full_matrix = []\n",
    "\n",
    "for pat_enc_csn_id in positive_training_set:\n",
    "    to_add = demographic_matrix[pat_enc_csn_id]\n",
    "    to_add += datetime_matrix[pat_enc_csn_id]\n",
    "    to_add += diag_matrix[pat_enc_csn_id]\n",
    "    full_matrix.append(to_add)\n",
    "    \n",
    "for pat_enc_csn_id in negative_training_set:\n",
    "    to_add = demographic_matrix[pat_enc_csn_id]\n",
    "    to_add += datetime_matrix[pat_enc_csn_id]\n",
    "    to_add += diag_matrix[pat_enc_csn_id]\n",
    "    full_matrix.append(to_add)"
   ]
  },
  {
   "cell_type": "code",
   "execution_count": 4,
   "id": "blond-search",
   "metadata": {
    "scrolled": true
   },
   "outputs": [
    {
     "data": {
      "text/plain": [
       "Counter({1637: 9340})"
      ]
     },
     "execution_count": 4,
     "metadata": {},
     "output_type": "execute_result"
    }
   ],
   "source": [
    "Counter([len(i) for i in full_matrix])"
   ]
  },
  {
   "cell_type": "code",
   "execution_count": 5,
   "id": "entire-kazakhstan",
   "metadata": {},
   "outputs": [
    {
     "data": {
      "text/plain": [
       "1637"
      ]
     },
     "execution_count": 5,
     "metadata": {},
     "output_type": "execute_result"
    }
   ],
   "source": [
    "full_variable_list = demographic_variables + datetime_variables[:-1] + diag_variables\n",
    "len(full_variable_list)"
   ]
  },
  {
   "cell_type": "code",
   "execution_count": 6,
   "id": "sound-corpus",
   "metadata": {},
   "outputs": [
    {
     "data": {
      "text/plain": [
       "(4670, 4670)"
      ]
     },
     "execution_count": 6,
     "metadata": {},
     "output_type": "execute_result"
    }
   ],
   "source": [
    "len(positive_training_set), len(negative_training_set)"
   ]
  },
  {
   "cell_type": "code",
   "execution_count": 7,
   "id": "ceramic-speaking",
   "metadata": {},
   "outputs": [
    {
     "data": {
      "text/plain": [
       "(9340, Counter({1: 4670, 0: 4670}))"
      ]
     },
     "execution_count": 7,
     "metadata": {},
     "output_type": "execute_result"
    }
   ],
   "source": [
    "covid_non_covid_visits = [1 for i in range(4670)] + [0 for i in range(4670)]\n",
    "len(covid_non_covid_visits), Counter(covid_non_covid_visits)"
   ]
  },
  {
   "cell_type": "code",
   "execution_count": 8,
   "id": "extra-philip",
   "metadata": {},
   "outputs": [],
   "source": [
    "full_matrix = np.array(full_matrix)"
   ]
  },
  {
   "cell_type": "code",
   "execution_count": 9,
   "id": "resident-microphone",
   "metadata": {},
   "outputs": [],
   "source": [
    "negative_testing_set = pickle.load(open('data/negative_eval_set.p', 'rb'))\n",
    "positive_testing_set = pickle.load(open('data/positive_eval_set.p', 'rb'))"
   ]
  },
  {
   "cell_type": "code",
   "execution_count": 10,
   "id": "peripheral-rider",
   "metadata": {},
   "outputs": [],
   "source": [
    "full_matrix_testing = []\n",
    "\n",
    "for pat_enc_csn_id in positive_testing_set:\n",
    "    to_add = demographic_matrix[pat_enc_csn_id]\n",
    "    to_add += datetime_matrix[pat_enc_csn_id]\n",
    "    to_add += diag_matrix[pat_enc_csn_id]\n",
    "    full_matrix_testing.append(to_add)\n",
    "    \n",
    "for pat_enc_csn_id in negative_testing_set:\n",
    "    to_add = demographic_matrix[pat_enc_csn_id]\n",
    "    to_add += datetime_matrix[pat_enc_csn_id]\n",
    "    to_add += diag_matrix[pat_enc_csn_id]\n",
    "    full_matrix_testing.append(to_add)"
   ]
  },
  {
   "cell_type": "code",
   "execution_count": 11,
   "id": "authorized-recipe",
   "metadata": {},
   "outputs": [
    {
     "data": {
      "text/plain": [
       "(9340, Counter({1: 4670, 0: 4670}))"
      ]
     },
     "execution_count": 11,
     "metadata": {},
     "output_type": "execute_result"
    }
   ],
   "source": [
    "covid_non_covid_visits_testing = [1 for i in range(4670)] + [0 for i in range(4670)]\n",
    "len(covid_non_covid_visits_testing), Counter(covid_non_covid_visits_testing)"
   ]
  },
  {
   "cell_type": "code",
   "execution_count": 12,
   "id": "random-wheel",
   "metadata": {},
   "outputs": [],
   "source": [
    "full_matrix_testing = np.array(full_matrix_testing)"
   ]
  },
  {
   "cell_type": "code",
   "execution_count": 13,
   "id": "international-amount",
   "metadata": {},
   "outputs": [
    {
     "name": "stderr",
     "output_type": "stream",
     "text": [
      "100%|██████████| 100/100 [27:02<00:00, 16.22s/it]\n"
     ]
    }
   ],
   "source": [
    "training_oob_auroc = {}\n",
    "training_auroc = {}\n",
    "testing_auroc = {}\n",
    "\n",
    "\n",
    "for d in tqdm(range(1,101)):\n",
    "    rf = RandomForestClassifier(n_estimators=190, random_state=1, oob_score=True, max_depth=d)\n",
    "    rf.fit(full_matrix, covid_non_covid_visits)\n",
    "    estimate_covid_oob = rf.oob_decision_function_[:,1]\n",
    "    estimate_covid = rf.predict_proba(full_matrix)[:,1]\n",
    "    testing_covid = rf.predict_proba(full_matrix_testing)[:,1]\n",
    "    false_positive_rate, true_positive_rate, thresholds = roc_curve(covid_non_covid_visits, estimate_covid_oob)\n",
    "    roc_auc = auc(false_positive_rate, true_positive_rate)\n",
    "    training_oob_auroc[d]=roc_auc\n",
    "    false_positive_rate, true_positive_rate, thresholds = roc_curve(covid_non_covid_visits, estimate_covid)\n",
    "    roc_auc = auc(false_positive_rate, true_positive_rate)\n",
    "    training_auroc[d]=roc_auc\n",
    "    false_positive_rate, true_positive_rate, thresholds = roc_curve(covid_non_covid_visits_testing, testing_covid)\n",
    "    roc_auc = auc(false_positive_rate, true_positive_rate)\n",
    "    testing_auroc[d]=roc_auc\n",
    "    "
   ]
  },
  {
   "cell_type": "code",
   "execution_count": 14,
   "id": "naughty-uganda",
   "metadata": {},
   "outputs": [
    {
     "data": {
      "text/plain": [
       "Text(0, 0.5, 'AUROC')"
      ]
     },
     "execution_count": 14,
     "metadata": {},
     "output_type": "execute_result"
    },
    {
     "data": {
      "image/png": "[encoded data removed]",
      "text/plain": [
       "<Figure size 432x288 with 1 Axes>"
      ]
     },
     "metadata": {
      "needs_background": "light"
     },
     "output_type": "display_data"
    }
   ],
   "source": [
    "plt.plot(list(training_auroc.keys()), list(training_auroc.values()), label = 'Training')\n",
    "plt.plot(list(training_oob_auroc.keys()), list(training_oob_auroc.values()), label = 'Training OOB')\n",
    "plt.plot(list(testing_auroc.keys()), list(testing_auroc.values()), label = 'Testing')\n",
    "plt.legend()\n",
    "plt.xlabel('max_depth')\n",
    "plt.ylabel('AUROC')"
   ]
  },
  {
   "cell_type": "code",
   "execution_count": 15,
   "id": "adjustable-overview",
   "metadata": {},
   "outputs": [],
   "source": [
    "pickle.dump(training_auroc, open('data/training_auroc_depth.p', 'wb'))\n",
    "pickle.dump(training_oob_auroc, open('data/training_oob_auroc_depth.p', 'wb'))\n",
    "pickle.dump(testing_auroc, open('data/testing_auroc_depth.p', 'wb'))"
   ]
  },
  {
   "cell_type": "code",
   "execution_count": 16,
   "id": "collected-carnival",
   "metadata": {},
   "outputs": [
    {
     "data": {
      "text/plain": [
       "0.8958289276396334"
      ]
     },
     "execution_count": 16,
     "metadata": {},
     "output_type": "execute_result"
    }
   ],
   "source": [
    "max(testing_auroc.values())"
   ]
  },
  {
   "cell_type": "code",
   "execution_count": 17,
   "id": "becoming-great",
   "metadata": {},
   "outputs": [
    {
     "data": {
      "text/plain": [
       "[69]"
      ]
     },
     "execution_count": 17,
     "metadata": {},
     "output_type": "execute_result"
    }
   ],
   "source": [
    "[i for i in list(training_auroc.keys())[1:] if testing_auroc[i] == max(testing_auroc.values())]"
   ]
  },
  {
   "cell_type": "code",
   "execution_count": null,
   "id": "japanese-brooklyn",
   "metadata": {},
   "outputs": [],
   "source": []
  }
 ],
 "metadata": {
  "kernelspec": {
   "display_name": "Python 3",
   "language": "python",
   "name": "python3"
  },
  "language_info": {
   "codemirror_mode": {
    "name": "ipython",
    "version": 3
   },
   "file_extension": ".py",
   "mimetype": "text/x-python",
   "name": "python",
   "nbconvert_exporter": "python",
   "pygments_lexer": "ipython3",
   "version": "3.9.10"
  }
 },
 "nbformat": 4,
 "nbformat_minor": 5
}
