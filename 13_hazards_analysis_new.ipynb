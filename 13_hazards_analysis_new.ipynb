{
 "cells": [
  {
   "cell_type": "code",
   "execution_count": 1,
   "id": "olympic-atmosphere",
   "metadata": {},
   "outputs": [],
   "source": [
    "import pymysql \n",
    "import numpy as np\n",
    "import pandas as pd\n",
    "from datetime import datetime, timedelta\n",
    "from tqdm import tqdm\n",
    "from collections import defaultdict, Counter\n",
    "import _pickle as pickle\n",
    "import random\n",
    "from scipy.stats import epps_singleton_2samp, wasserstein_distance, ks_2samp\n",
    "import matplotlib.pyplot as plt\n",
    "import seaborn as sns\n",
    "from random import sample\n",
    "from lifelines import KaplanMeierFitter, CoxPHFitter"
   ]
  },
  {
   "cell_type": "code",
   "execution_count": 2,
   "id": "active-workplace",
   "metadata": {},
   "outputs": [
    {
     "name": "stderr",
     "output_type": "stream",
     "text": [
      "780740814it [19:05, 681649.81it/s]\n"
     ]
    }
   ],
   "source": [
    "previous_conditions = defaultdict(list)\n",
    "\n",
    "file = open('data/previous_conditions_phe.csv', 'r')\n",
    "\n",
    "for line in tqdm(file):\n",
    "    if 'phecode' in line:\n",
    "        continue\n",
    "    phe = float(line.split(',')[0])\n",
    "    visit_id = int(line.split(',')[1])\n",
    "    if phe not in previous_conditions[visit_id]:\n",
    "        previous_conditions[visit_id].append(phe)\n",
    "        \n",
    "    "
   ]
  },
  {
   "cell_type": "code",
   "execution_count": 3,
   "id": "chubby-somewhere",
   "metadata": {},
   "outputs": [
    {
     "data": {
      "text/plain": [
       "1573113"
      ]
     },
     "execution_count": 3,
     "metadata": {},
     "output_type": "execute_result"
    }
   ],
   "source": [
    "visit_probability = {}\n",
    "for visit_id, prob in np.array(pd.read_csv('data/all_data_predictions_calibrated.csv', header=None)):\n",
    "    visit_probability[int(visit_id)] = prob\n",
    "    \n",
    "len(visit_probability)"
   ]
  },
  {
   "cell_type": "code",
   "execution_count": 4,
   "id": "likely-fever",
   "metadata": {},
   "outputs": [],
   "source": [
    "# start tunnel first: ssh -f [uni]@mimir.dbmi.columbia.edu -L 3307:127.0.0.1:3306 -N\n",
    "\n",
    "conn = pymysql.connect(host=\"127.0.0.1\", \n",
    "                       user=\"\", #uni\n",
    "                       port = ,\n",
    "                       passwd=\"\" #sql password \n",
    "                      ) \n",
    "cur = conn.cursor()"
   ]
  },
  {
   "cell_type": "code",
   "execution_count": 5,
   "id": "geographic-snake",
   "metadata": {},
   "outputs": [
    {
     "data": {
      "text/plain": [
       "(7825382, 1048)"
      ]
     },
     "execution_count": 5,
     "metadata": {},
     "output_type": "execute_result"
    }
   ],
   "source": [
    "phenotype_visits = []\n",
    "cur.execute('''select phecode, a.visit_id, a.contact_date, b.ed_dt\n",
    "                from user_vr2430.vfinal_1_predict_covid_conditions a\n",
    "                join (select visit_id, pat_mrn_id, ed_dt from user_vr2430.vfinal_1_predict_covid_visits) b using (pat_mrn_id)\n",
    "                join clinical_merge_v5_2022q1.phecode_icd10 using (icd10)\n",
    "                where a.contact_date >= b.ed_dt and a.visit_id != b.visit_id;''')\n",
    "\n",
    "for phe, visit, ct, ed_dt in cur.fetchall():\n",
    "    if visit in visit_probability:\n",
    "        phenotype_visits.append([phe,visit, ct, ed_dt])\n",
    "\n",
    "phenotype_visits = np.array(pd.DataFrame(phenotype_visits))\n",
    "\n",
    "len(phenotype_visits), len(set(phenotype_visits[:,0]))"
   ]
  },
  {
   "cell_type": "code",
   "execution_count": 6,
   "id": "applied-testimony",
   "metadata": {},
   "outputs": [
    {
     "data": {
      "text/plain": [
       "5002965"
      ]
     },
     "execution_count": 6,
     "metadata": {},
     "output_type": "execute_result"
    }
   ],
   "source": [
    "cur.execute('''select distinct a.visit_id, a.contact_date, b.ed_dt\n",
    "                from user_vr2430.vfinal_1_predict_covid_conditions a\n",
    "                join (select visit_id, pat_mrn_id, ed_dt from user_vr2430.vfinal_1_predict_covid_visits) b using (pat_mrn_id)\n",
    "                where a.contact_date >= b.ed_dt and a.visit_id != b.visit_id;''')\n",
    "\n",
    "followup_visits = []\n",
    "for visit, ct, ed_dt in cur.fetchall():\n",
    "    if visit in visit_probability:\n",
    "        followup_visits.append([visit, ct, ed_dt])\n",
    "        \n",
    "len(followup_visits)"
   ]
  },
  {
   "cell_type": "code",
   "execution_count": 7,
   "id": "first-courage",
   "metadata": {},
   "outputs": [],
   "source": [
    "followup_visits = np.array(pd.DataFrame(followup_visits))"
   ]
  },
  {
   "cell_type": "code",
   "execution_count": 8,
   "id": "vulnerable-spanking",
   "metadata": {},
   "outputs": [
    {
     "data": {
      "text/plain": [
       "(277994, 529295)"
      ]
     },
     "execution_count": 8,
     "metadata": {},
     "output_type": "execute_result"
    }
   ],
   "source": [
    "len(set(phenotype_visits[:,1])), len(set(followup_visits[:,0]))"
   ]
  },
  {
   "cell_type": "code",
   "execution_count": 9,
   "id": "medium-password",
   "metadata": {},
   "outputs": [],
   "source": [
    "cur.execute('''select a.visit_id, phecode\n",
    "                from clinical_merge_v5_2022q1.phecode_icd10\n",
    "                inner join user_vr2430.vfinal_1_predict_covid_conditions b using (icd10)\n",
    "                inner join user_vr2430.vfinal_1_predict_covid_visits a using (pat_mrn_id)\n",
    "                where contact_date < st_dt;''')\n",
    "\n",
    "for visit_id, phe in cur.fetchall():\n",
    "    phe = float(line.split(',')[0])\n",
    "    visit_id = int(line.split(',')[1])\n",
    "    if phe not in previous_conditions[visit_id]:\n",
    "        previous_conditions[visit_id].append(phe)"
   ]
  },
  {
   "cell_type": "code",
   "execution_count": 10,
   "id": "noticed-viewer",
   "metadata": {},
   "outputs": [
    {
     "name": "stderr",
     "output_type": "stream",
     "text": [
      "100%|██████████| 1305172/1305172 [00:07<00:00, 165538.32it/s]\n"
     ]
    }
   ],
   "source": [
    "previous_conditions_phe_visit = defaultdict(list)\n",
    "\n",
    "for visit_id in tqdm(previous_conditions):\n",
    "    for phe in previous_conditions[visit_id]:\n",
    "        previous_conditions_phe_visit[phe].append(visit_id)"
   ]
  },
  {
   "cell_type": "code",
   "execution_count": 11,
   "id": "political-sense",
   "metadata": {},
   "outputs": [
    {
     "name": "stderr",
     "output_type": "stream",
     "text": [
      "100%|██████████| 7825382/7825382 [00:37<00:00, 211348.84it/s]\n"
     ]
    },
    {
     "data": {
      "text/plain": [
       "(931, 961, 975, 982, 1005, 1011, 1017, 1019)"
      ]
     },
     "execution_count": 11,
     "metadata": {},
     "output_type": "execute_result"
    }
   ],
   "source": [
    "phenotype_visits_7 = defaultdict(list)\n",
    "phenotype_visits_14 = defaultdict(list)\n",
    "phenotype_visits_21 = defaultdict(list)\n",
    "phenotype_visits_28 = defaultdict(list)\n",
    "phenotype_visits_3m = defaultdict(list)\n",
    "phenotype_visits_6m = defaultdict(list)\n",
    "phenotype_visits_9m = defaultdict(list)\n",
    "phenotype_visits_1y = defaultdict(list)\n",
    "\n",
    "for phe, visit_id, diag_date, ed_date in tqdm(phenotype_visits):\n",
    "        if visit_id not in visit_probability:\n",
    "            continue\n",
    "        if phe == '':\n",
    "            continue\n",
    "        if float(phe) in previous_conditions[visit_id]:\n",
    "            continue\n",
    "        if (diag_date-ed_date).days <= 7:\n",
    "            phenotype_visits_7[phe].append([visit_id, diag_date, ed_date])\n",
    "        if (diag_date-ed_date).days <= 14:\n",
    "            phenotype_visits_14[phe].append([visit_id, diag_date, ed_date])\n",
    "        if (diag_date-ed_date).days <= 21:\n",
    "            phenotype_visits_21[phe].append([visit_id, diag_date, ed_date])\n",
    "        if (diag_date-ed_date).days <= 28:\n",
    "            phenotype_visits_28[phe].append([visit_id, diag_date, ed_date])\n",
    "        if (diag_date-ed_date).days <= 91:\n",
    "            phenotype_visits_3m[phe].append([visit_id, diag_date, ed_date])\n",
    "        if (diag_date-ed_date).days <= 183:\n",
    "            phenotype_visits_6m[phe].append([visit_id, diag_date, ed_date])  \n",
    "        if (diag_date-ed_date).days <= 274:\n",
    "            phenotype_visits_9m[phe].append([visit_id, diag_date, ed_date])\n",
    "        if (diag_date-ed_date).days <= 365:\n",
    "            phenotype_visits_1y[phe].append([visit_id, diag_date, ed_date])\n",
    "\n",
    "            \n",
    "len(phenotype_visits_7), len(phenotype_visits_14), len(phenotype_visits_21), len(phenotype_visits_28), len(phenotype_visits_3m) ,len(phenotype_visits_6m), len(phenotype_visits_9m) ,len(phenotype_visits_1y)"
   ]
  },
  {
   "cell_type": "code",
   "execution_count": 12,
   "id": "tamil-drama",
   "metadata": {},
   "outputs": [
    {
     "name": "stderr",
     "output_type": "stream",
     "text": [
      "100%|██████████| 5002965/5002965 [00:26<00:00, 191566.17it/s]\n"
     ]
    },
    {
     "data": {
      "text/plain": [
       "(266074, 502360, 717314, 922617, 2239595, 3471263, 4184347, 4589280)"
      ]
     },
     "execution_count": 12,
     "metadata": {},
     "output_type": "execute_result"
    }
   ],
   "source": [
    "followup_visits_7 = []\n",
    "followup_visits_14 = []\n",
    "followup_visits_21 = []\n",
    "followup_visits_28 = []\n",
    "followup_visits_3m = []\n",
    "followup_visits_6m = []\n",
    "followup_visits_9m = []\n",
    "followup_visits_1y = []\n",
    "\n",
    "for visit_id, diag_date, ed_date in tqdm(followup_visits):\n",
    "        if visit_id not in visit_probability:\n",
    "            continue\n",
    "        if (diag_date-ed_date).days <= 7:\n",
    "            followup_visits_7.append([visit_id, diag_date, ed_date])\n",
    "        if (diag_date-ed_date).days <= 14:\n",
    "            followup_visits_14.append([visit_id, diag_date, ed_date])\n",
    "        if (diag_date-ed_date).days <= 21:\n",
    "            followup_visits_21.append([visit_id, diag_date, ed_date])\n",
    "        if (diag_date-ed_date).days <= 28:\n",
    "            followup_visits_28.append([visit_id, diag_date, ed_date])\n",
    "        if (diag_date-ed_date).days <= 91:\n",
    "            followup_visits_3m.append([visit_id, diag_date, ed_date])\n",
    "        if (diag_date-ed_date).days <= 183:\n",
    "            followup_visits_6m.append([visit_id, diag_date, ed_date])\n",
    "        if (diag_date-ed_date).days <= 274:\n",
    "            followup_visits_9m.append([visit_id, diag_date, ed_date])\n",
    "        if (diag_date-ed_date).days <=365:\n",
    "            followup_visits_1y.append([visit_id, diag_date, ed_date])\n",
    "\n",
    "len(followup_visits_7), len(followup_visits_14), len(followup_visits_21), len(followup_visits_28), len(followup_visits_3m) ,len(followup_visits_6m), len(followup_visits_9m) ,len(followup_visits_1y)"
   ]
  },
  {
   "cell_type": "code",
   "execution_count": 13,
   "id": "reliable-institution",
   "metadata": {},
   "outputs": [],
   "source": [
    "followup_visits_7 = np.array(pd.DataFrame(followup_visits_7))\n",
    "followup_visits_14 = np.array(pd.DataFrame(followup_visits_14))\n",
    "followup_visits_21 = np.array(pd.DataFrame(followup_visits_21))\n",
    "followup_visits_28 = np.array(pd.DataFrame(followup_visits_28))\n",
    "followup_visits_3m = np.array(pd.DataFrame(followup_visits_3m))\n",
    "followup_visits_6m = np.array(pd.DataFrame(followup_visits_6m))\n",
    "followup_visits_9m = np.array(pd.DataFrame(followup_visits_9m))\n",
    "followup_visits_1y = np.array(pd.DataFrame(followup_visits_1y))\n"
   ]
  },
  {
   "cell_type": "code",
   "execution_count": 14,
   "id": "moral-mileage",
   "metadata": {},
   "outputs": [
    {
     "name": "stderr",
     "output_type": "stream",
     "text": [
      "100%|██████████| 266074/266074 [00:00<00:00, 692974.93it/s]\n",
      "100%|██████████| 502360/502360 [00:00<00:00, 752451.68it/s]\n",
      "100%|██████████| 717314/717314 [00:03<00:00, 198422.21it/s]\n",
      "100%|██████████| 922617/922617 [00:01<00:00, 848787.92it/s]\n",
      "100%|██████████| 2239595/2239595 [00:02<00:00, 958627.72it/s]\n",
      "100%|██████████| 3471263/3471263 [00:03<00:00, 1004875.20it/s]\n",
      "100%|██████████| 4184347/4184347 [00:04<00:00, 999551.57it/s] \n",
      "100%|██████████| 4589280/4589280 [00:04<00:00, 996216.19it/s] \n"
     ]
    }
   ],
   "source": [
    "followup_tm_7 = defaultdict(list)\n",
    "followup_tm_14 = defaultdict(list)\n",
    "followup_tm_21 = defaultdict(list)\n",
    "followup_tm_28 = defaultdict(list)\n",
    "followup_tm_3m = defaultdict(list)\n",
    "followup_tm_6m = defaultdict(list)\n",
    "followup_tm_9m = defaultdict(list)\n",
    "followup_tm_1y = defaultdict(list)\n",
    "\n",
    "for visit_id, ed, st in tqdm(followup_visits_7):\n",
    "    followup_tm_7[visit_id].append((ed-st).days)\n",
    "for visit_id, ed, st in tqdm(followup_visits_14):\n",
    "    followup_tm_14[visit_id].append((ed-st).days)\n",
    "for visit_id, ed, st in tqdm(followup_visits_21):\n",
    "    followup_tm_21[visit_id].append((ed-st).days)\n",
    "for visit_id, ed, st in tqdm(followup_visits_28):\n",
    "    followup_tm_28[visit_id].append((ed-st).days)\n",
    "for visit_id, ed, st in tqdm(followup_visits_3m):\n",
    "    followup_tm_3m[visit_id].append((ed-st).days)\n",
    "for visit_id, ed, st in tqdm(followup_visits_6m):\n",
    "    followup_tm_6m[visit_id].append((ed-st).days)\n",
    "for visit_id, ed, st in tqdm(followup_visits_9m):\n",
    "    followup_tm_9m[visit_id].append((ed-st).days)    \n",
    "for visit_id, ed, st in tqdm(followup_visits_1y):\n",
    "    followup_tm_1y[visit_id].append((ed-st).days)"
   ]
  },
  {
   "cell_type": "code",
   "execution_count": 16,
   "id": "agricultural-arena",
   "metadata": {},
   "outputs": [],
   "source": [
    "pickle.dump(phenotype_visits_7, open('data/phenotype_visits_7_new.p', 'wb'))\n",
    "pickle.dump(phenotype_visits_14, open('data/phenotype_visits_14_new.p', 'wb'))\n",
    "pickle.dump(phenotype_visits_21, open('data/phenotype_visits_21_new.p', 'wb'))\n",
    "pickle.dump(phenotype_visits_28, open('data/phenotype_visits_28_new.p', 'wb'))\n",
    "pickle.dump(phenotype_visits_3m, open('data/phenotype_visits_3m_new.p', 'wb'))\n",
    "pickle.dump(phenotype_visits_6m, open('data/phenotype_visits_6m_new.p', 'wb'))\n",
    "pickle.dump(phenotype_visits_9m, open('data/phenotype_visits_9m_new.p', 'wb'))\n",
    "pickle.dump(phenotype_visits_1y, open('data/phenotype_visits_1y_new.p', 'wb'))\n",
    "pickle.dump(followup_visits_7, open('data/followup_visits_7_new.p', 'wb'))\n",
    "pickle.dump(followup_visits_14, open('data/followup_visits_14_new.p', 'wb'))\n",
    "pickle.dump(followup_visits_21, open('data/followup_visits_21_new.p', 'wb'))\n",
    "pickle.dump(followup_visits_28, open('data/followup_visits_28_new.p', 'wb'))\n",
    "pickle.dump(followup_visits_3m, open('data/followup_visits_3m_new.p', 'wb'))\n",
    "pickle.dump(followup_visits_6m, open('data/followup_visits_6m_new.p', 'wb'))\n",
    "pickle.dump(followup_visits_9m, open('data/followup_visits_9m_new.p', 'wb'))\n",
    "pickle.dump(followup_visits_1y, open('data/followup_visits_1y_new.p', 'wb'))\n",
    "pickle.dump(followup_tm_7, open('data/followup_tm_7_new.p', 'wb'))\n",
    "pickle.dump(followup_tm_14, open('data/followup_tm_14_new.p', 'wb'))\n",
    "pickle.dump(followup_tm_21, open('data/followup_tm_21_new.p', 'wb'))\n",
    "pickle.dump(followup_tm_28, open('data/followup_tm_28_new.p', 'wb'))\n",
    "pickle.dump(followup_tm_3m, open('data/followup_tm_3m_new.p', 'wb'))\n",
    "pickle.dump(followup_tm_6m, open('data/followup_tm_6m_new.p', 'wb'))\n",
    "pickle.dump(followup_tm_9m, open('data/followup_tm_9m_new.p', 'wb'))\n",
    "pickle.dump(followup_tm_1y, open('data/followup_tm_1y_new.p', 'wb'))"
   ]
  },
  {
   "cell_type": "code",
   "execution_count": 58,
   "id": "annoying-irish",
   "metadata": {
    "scrolled": true
   },
   "outputs": [
    {
     "name": "stderr",
     "output_type": "stream",
     "text": [
      " 63%|██████▎   | 639/1021 [2:01:30<1:04:38, 10.15s/it]/usr/local/lib/python3.9/site-packages/lifelines/utils/__init__.py:1099: FutureWarning: Index.__or__ operating as a set operation is deprecated, in the future this will be a logical operation matching Series.__or__.  Use index.union(other) instead\n",
      "  problem_columns = (censors_only | deaths_only).difference(total).tolist()\n",
      "/usr/local/lib/python3.9/site-packages/lifelines/fitters/coxph_fitter.py:1582: ConvergenceWarning: Newton-Rhaphson failed to converge sufficiently. Please see the following tips in the lifelines documentation: https://lifelines.readthedocs.io/en/latest/Examples.html#problems-with-convergence-in-the-cox-proportional-hazard-model\n",
      "  warnings.warn(\n",
      "100%|██████████| 1021/1021 [3:23:00<00:00, 11.93s/it] \n"
     ]
    }
   ],
   "source": [
    "survival_results_1y = []\n",
    "for phe in tqdm([i for i in phenotype_visits_1y.keys() if i !='']):\n",
    "    if len(phenotype_visits_1y[phe]) ==0:\n",
    "        continue\n",
    "    case_visits_1y = []\n",
    "    for visit_id, diag_date, ed_date in phenotype_visits_1y[phe]:\n",
    "        if visit_id not in visit_probability:\n",
    "            continue\n",
    "        if (diag_date-ed_date).days <= 365:\n",
    "            case_visits_1y.append([visit_id, (diag_date-ed_date).days])\n",
    "            \n",
    "    case_visits_1y = np.array(pd.DataFrame(case_visits_1y))\n",
    "    non_case_visits_1y = list((set(followup_visits_1y[:,0])-set(case_visits_1y[:,0]))-set(previous_conditions_phe_visit[float(phe)]))\n",
    "    \n",
    "    coxph_model_data = []\n",
    "\n",
    "\n",
    "    for visit_id in set(case_visits_1y[:,0]):\n",
    "        time_to_diag = min(case_visits_1y[:,1][case_visits_1y[:,0]==visit_id])\n",
    "        covid_prob = visit_probability[visit_id]\n",
    "        coxph_model_data.append([covid_prob, 1, time_to_diag])\n",
    "    \n",
    "    for visit_id in non_case_visits_1y:\n",
    "        time_to_diag = min([365] + followup_tm_1y[visit_id])\n",
    "        covid_prob = visit_probability[visit_id]\n",
    "        coxph_model_data.append([covid_prob, 0, time_to_diag])\n",
    "    \n",
    "    coxph_model_data = pd.DataFrame(coxph_model_data, columns=['covid_prob', 'phenotype', 'days'])\n",
    "    cph = CoxPHFitter()\n",
    "    cph.fit(coxph_model_data, 'days', 'phenotype')\n",
    "    hz = cph.summary['exp(coef)'][0]\n",
    "    lw = cph.summary['exp(coef) lower 95%'][0]\n",
    "    up = cph.summary['exp(coef) upper 95%'][0]\n",
    "    z = cph.summary['z'][0]\n",
    "    p = cph.summary['-log2(p)'][0]\n",
    "    survival_results_1y.append([phe, Counter(coxph_model_data['phenotype'])[1], Counter(coxph_model_data['phenotype'])[0], hz, lw, up, z, p])\n",
    "    \n",
    "pd.DataFrame(survival_results_1y, columns=['phe', 'case_n', 'noncase_n', 'hazards ratio', \n",
    "                                          '95% confidence interval lower','95% confidence interval upper', 'z','-log2(p)']).to_csv('data/phenotype_coxph_new_1y.csv', index=False)"
   ]
  },
  {
   "cell_type": "code",
   "execution_count": null,
   "id": "stupid-project",
   "metadata": {},
   "outputs": [],
   "source": []
  },
  {
   "cell_type": "code",
   "execution_count": null,
   "id": "desirable-segment",
   "metadata": {},
   "outputs": [],
   "source": []
  },
  {
   "cell_type": "code",
   "execution_count": null,
   "id": "final-convenience",
   "metadata": {},
   "outputs": [],
   "source": []
  }
 ],
 "metadata": {
  "kernelspec": {
   "display_name": "Python 3",
   "language": "python",
   "name": "python3"
  },
  "language_info": {
   "codemirror_mode": {
    "name": "ipython",
    "version": 3
   },
   "file_extension": ".py",
   "mimetype": "text/x-python",
   "name": "python",
   "nbconvert_exporter": "python",
   "pygments_lexer": "ipython3",
   "version": "3.9.10"
  }
 },
 "nbformat": 4,
 "nbformat_minor": 5
}
