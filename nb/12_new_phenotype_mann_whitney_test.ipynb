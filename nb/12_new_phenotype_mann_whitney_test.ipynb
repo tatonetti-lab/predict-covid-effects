{
 "cells": [
  {
   "cell_type": "code",
   "execution_count": 1,
   "id": "exclusive-cisco",
   "metadata": {},
   "outputs": [],
   "source": [
    "import pymysql \n",
    "import numpy as np\n",
    "import pandas as pd\n",
    "from datetime import datetime, timedelta\n",
    "from tqdm import tqdm\n",
    "from collections import defaultdict, Counter\n",
    "import _pickle as pickle\n",
    "import random\n",
    "from scipy.stats import epps_singleton_2samp, wasserstein_distance, ks_2samp, mannwhitneyu\n",
    "import matplotlib.pyplot as plt\n",
    "import seaborn as sns\n",
    "from random import sample\n",
    "from statsmodels.stats.multitest import fdrcorrection"
   ]
  },
  {
   "cell_type": "code",
   "execution_count": 2,
   "id": "practical-lemon",
   "metadata": {},
   "outputs": [],
   "source": [
    "# start tunnel first: ssh -f [uni]@mimir.dbmi.columbia.edu -L 3307:127.0.0.1:3306 -N\n",
    "\n",
    "conn = pymysql.connect(host=\"127.0.0.1\", \n",
    "                       user=\"\", #uni\n",
    "                       port = ,\n",
    "                       passwd=\"\", #sql password\n",
    "                       db = \"\" ) #database\n",
    "cur = conn.cursor()"
   ]
  },
  {
   "cell_type": "code",
   "execution_count": 3,
   "id": "aerial-economics",
   "metadata": {},
   "outputs": [
    {
     "data": {
      "text/plain": [
       "1573113"
      ]
     },
     "execution_count": 3,
     "metadata": {},
     "output_type": "execute_result"
    }
   ],
   "source": [
    "visit_probability = {}\n",
    "for visit_id, prob in np.array(pd.read_csv('data/rfr_model_depth_69_trees_190_preds.csv', header=None)):\n",
    "    visit_probability[int(visit_id)] = prob\n",
    "    \n",
    "len(visit_probability)"
   ]
  },
  {
   "cell_type": "code",
   "execution_count": 4,
   "id": "prompt-cycling",
   "metadata": {},
   "outputs": [],
   "source": [
    "phenotype_visits = []"
   ]
  },
  {
   "cell_type": "code",
   "execution_count": 5,
   "id": "major-booking",
   "metadata": {},
   "outputs": [
    {
     "data": {
      "text/plain": [
       "(7825382, 1048)"
      ]
     },
     "execution_count": 5,
     "metadata": {},
     "output_type": "execute_result"
    }
   ],
   "source": [
    "cur.execute('''select phecode, a.visit_id, a.contact_date, b.ed_dt\n",
    "                from user_vr2430.vfinal_1_predict_covid_conditions a\n",
    "                join (select visit_id, pat_mrn_id, ed_dt from user_vr2430.vfinal_1_predict_covid_visits) b using (pat_mrn_id)\n",
    "                join clinical_merge_v5_2022q1.phecode_icd10 using (icd10)\n",
    "                where a.contact_date >= b.ed_dt and a.visit_id != b.visit_id;''')\n",
    "\n",
    "for phe, visit, ct, ed_dt in cur.fetchall():\n",
    "    if visit in visit_probability:\n",
    "        phenotype_visits.append([phe,visit, ct, ed_dt])\n",
    "\n",
    "phenotype_visits = np.array(pd.DataFrame(phenotype_visits))\n",
    "\n",
    "len(phenotype_visits), len(set(phenotype_visits[:,0]))"
   ]
  },
  {
   "cell_type": "code",
   "execution_count": 6,
   "id": "alone-occurrence",
   "metadata": {},
   "outputs": [
    {
     "data": {
      "text/plain": [
       "5002965"
      ]
     },
     "execution_count": 6,
     "metadata": {},
     "output_type": "execute_result"
    }
   ],
   "source": [
    "cur.execute('''select distinct a.visit_id, a.contact_date, b.ed_dt\n",
    "                from user_vr2430.vfinal_1_predict_covid_conditions a\n",
    "                join (select visit_id, pat_mrn_id, ed_dt from user_vr2430.vfinal_1_predict_covid_visits) b using (pat_mrn_id)\n",
    "                where a.contact_date >= b.ed_dt and a.visit_id != b.visit_id;''')\n",
    "\n",
    "followup_visits = []\n",
    "for visit, ct, ed_dt in cur.fetchall():\n",
    "    if visit in visit_probability:\n",
    "        followup_visits.append([visit, ct, ed_dt])\n",
    "        \n",
    "len(followup_visits)"
   ]
  },
  {
   "cell_type": "code",
   "execution_count": 7,
   "id": "documented-breakdown",
   "metadata": {},
   "outputs": [],
   "source": [
    "followup_visits = np.array(pd.DataFrame(followup_visits))"
   ]
  },
  {
   "cell_type": "code",
   "execution_count": 8,
   "id": "armed-matrix",
   "metadata": {},
   "outputs": [
    {
     "data": {
      "text/plain": [
       "(277994, 529295)"
      ]
     },
     "execution_count": 8,
     "metadata": {},
     "output_type": "execute_result"
    }
   ],
   "source": [
    "len(set(phenotype_visits[:,1])), len(set(followup_visits[:,0]))"
   ]
  },
  {
   "cell_type": "code",
   "execution_count": 9,
   "id": "thorough-catalyst",
   "metadata": {},
   "outputs": [
    {
     "name": "stderr",
     "output_type": "stream",
     "text": [
      "780740814it [18:18, 710893.32it/s]\n"
     ]
    }
   ],
   "source": [
    "previous_conditions = defaultdict(list)\n",
    "\n",
    "file = open('data/previous_conditions_phe.csv', 'r')\n",
    "\n",
    "for line in tqdm(file):\n",
    "    if 'phecode' in line:\n",
    "        continue\n",
    "    phe = float(line.split(',')[0])\n",
    "    visit_id = int(line.split(',')[1])\n",
    "    if phe not in previous_conditions[visit_id]:\n",
    "        previous_conditions[visit_id].append(phe)\n",
    "        \n",
    "    "
   ]
  },
  {
   "cell_type": "code",
   "execution_count": 10,
   "id": "understanding-convertible",
   "metadata": {},
   "outputs": [],
   "source": [
    "cur.execute('''select a.visit_id, phecode\n",
    "                from clinical_merge_v5_2022q1.phecode_icd10\n",
    "                inner join user_vr2430.vfinal_1_predict_covid_conditions b using (icd10)\n",
    "                inner join user_vr2430.vfinal_1_predict_covid_visits a using (pat_mrn_id)\n",
    "                where contact_date < st_dt;''')\n",
    "\n",
    "for visit_id, phe in cur.fetchall():\n",
    "    phe = float(line.split(',')[0])\n",
    "    visit_id = int(line.split(',')[1])\n",
    "    if phe not in previous_conditions[visit_id]:\n",
    "        previous_conditions[visit_id].append(phe)"
   ]
  },
  {
   "cell_type": "code",
   "execution_count": 11,
   "id": "median-multiple",
   "metadata": {},
   "outputs": [
    {
     "name": "stderr",
     "output_type": "stream",
     "text": [
      "100%|██████████| 1305172/1305172 [00:07<00:00, 173939.44it/s]\n"
     ]
    }
   ],
   "source": [
    "previous_conditions_phe_visit = defaultdict(list)\n",
    "\n",
    "for visit_id in tqdm(previous_conditions):\n",
    "    for phe in previous_conditions[visit_id]:\n",
    "        previous_conditions_phe_visit[phe].append(visit_id)"
   ]
  },
  {
   "cell_type": "code",
   "execution_count": 12,
   "id": "effective-freeware",
   "metadata": {},
   "outputs": [
    {
     "name": "stderr",
     "output_type": "stream",
     "text": [
      "100%|██████████| 7825382/7825382 [00:57<00:00, 136689.14it/s]\n"
     ]
    },
    {
     "data": {
      "text/plain": [
       "(984, 1002, 1013, 1018, 1037, 1043, 1048, 1048)"
      ]
     },
     "execution_count": 12,
     "metadata": {},
     "output_type": "execute_result"
    }
   ],
   "source": [
    "phenotype_visits_7 = defaultdict(list)\n",
    "phenotype_visits_14 = defaultdict(list)\n",
    "phenotype_visits_21 = defaultdict(list)\n",
    "phenotype_visits_28 = defaultdict(list)\n",
    "phenotype_visits_3m = defaultdict(list)\n",
    "phenotype_visits_6m = defaultdict(list)\n",
    "phenotype_visits_9m = defaultdict(list)\n",
    "phenotype_visits_1y = defaultdict(list)\n",
    "\n",
    "for phe, visit_id, diag_date, ed_date in tqdm(phenotype_visits):\n",
    "        if visit_id not in visit_probability:\n",
    "            continue\n",
    "        if phe in previous_conditions[visit_id]:\n",
    "            continue\n",
    "        if (diag_date-ed_date).days <= 7:\n",
    "            phenotype_visits_7[phe].append([visit_id, diag_date, ed_date])\n",
    "        if (diag_date-ed_date).days <= 14:\n",
    "            phenotype_visits_14[phe].append([visit_id, diag_date, ed_date])\n",
    "        if (diag_date-ed_date).days <= 21:\n",
    "            phenotype_visits_21[phe].append([visit_id, diag_date, ed_date])\n",
    "        if (diag_date-ed_date).days <= 28:\n",
    "            phenotype_visits_28[phe].append([visit_id, diag_date, ed_date])\n",
    "        if (diag_date-ed_date).days <= 91:\n",
    "            phenotype_visits_3m[phe].append([visit_id, diag_date, ed_date])\n",
    "        if (diag_date-ed_date).days <= 183:\n",
    "            phenotype_visits_6m[phe].append([visit_id, diag_date, ed_date])  \n",
    "        if (diag_date-ed_date).days <= 274:\n",
    "            phenotype_visits_9m[phe].append([visit_id, diag_date, ed_date])\n",
    "        if (diag_date-ed_date).days <= 365:\n",
    "            phenotype_visits_1y[phe].append([visit_id, diag_date, ed_date])\n",
    "\n",
    "            \n",
    "len(phenotype_visits_7), len(phenotype_visits_14), len(phenotype_visits_21), len(phenotype_visits_28), len(phenotype_visits_3m) ,len(phenotype_visits_6m), len(phenotype_visits_9m) ,len(phenotype_visits_1y)"
   ]
  },
  {
   "cell_type": "code",
   "execution_count": 13,
   "id": "emotional-exhibit",
   "metadata": {},
   "outputs": [
    {
     "name": "stderr",
     "output_type": "stream",
     "text": [
      "100%|██████████| 5002965/5002965 [00:25<00:00, 196435.42it/s]\n"
     ]
    },
    {
     "data": {
      "text/plain": [
       "(266074, 502360, 717314, 922617, 2239595, 3471263, 4184347, 4589280)"
      ]
     },
     "execution_count": 13,
     "metadata": {},
     "output_type": "execute_result"
    }
   ],
   "source": [
    "followup_visits_7 = []\n",
    "followup_visits_14 = []\n",
    "followup_visits_21 = []\n",
    "followup_visits_28 = []\n",
    "followup_visits_3m = []\n",
    "followup_visits_6m = []\n",
    "followup_visits_9m = []\n",
    "followup_visits_1y = []\n",
    "\n",
    "for visit_id, diag_date, ed_date in tqdm(followup_visits):\n",
    "        if visit_id not in visit_probability:\n",
    "            continue\n",
    "        if (diag_date-ed_date).days <= 7:\n",
    "            followup_visits_7.append([visit_id, diag_date, ed_date])\n",
    "        if (diag_date-ed_date).days <= 14:\n",
    "            followup_visits_14.append([visit_id, diag_date, ed_date])\n",
    "        if (diag_date-ed_date).days <= 21:\n",
    "            followup_visits_21.append([visit_id, diag_date, ed_date])\n",
    "        if (diag_date-ed_date).days <= 28:\n",
    "            followup_visits_28.append([visit_id, diag_date, ed_date])\n",
    "        if (diag_date-ed_date).days <= 91:\n",
    "            followup_visits_3m.append([visit_id, diag_date, ed_date])\n",
    "        if (diag_date-ed_date).days <= 183:\n",
    "            followup_visits_6m.append([visit_id, diag_date, ed_date])\n",
    "        if (diag_date-ed_date).days <= 274:\n",
    "            followup_visits_9m.append([visit_id, diag_date, ed_date])\n",
    "        if (diag_date-ed_date).days <=365:\n",
    "            followup_visits_1y.append([visit_id, diag_date, ed_date])\n",
    "\n",
    "len(followup_visits_7), len(followup_visits_14), len(followup_visits_21), len(followup_visits_28), len(followup_visits_3m) ,len(followup_visits_6m), len(followup_visits_9m) ,len(followup_visits_1y)"
   ]
  },
  {
   "cell_type": "code",
   "execution_count": 14,
   "id": "australian-nature",
   "metadata": {},
   "outputs": [
    {
     "name": "stderr",
     "output_type": "stream",
     "text": [
      "100%|██████████| 984/984 [07:52<00:00,  2.08it/s]\n"
     ]
    }
   ],
   "source": [
    "results_7 = {}\n",
    "\n",
    "for phe in tqdm(phenotype_visits_7):\n",
    "    if phe == '':\n",
    "        continue\n",
    "    case_visits = []\n",
    "    for visit_id, diag_date, ed_date in phenotype_visits_7[phe]:\n",
    "        if visit_id not in visit_probability:\n",
    "            continue\n",
    "        if (diag_date-ed_date).days <= 7:\n",
    "            case_visits.append(visit_id)\n",
    "    case_visits = list(set(case_visits))\n",
    "    non_case_visits = list(set(np.array(pd.DataFrame(followup_visits_7))[:,0])-set(case_visits)-set(previous_conditions_phe_visit[float(phe)]))\n",
    "    phenotype_7 = [visit_probability[i] for i in case_visits]\n",
    "    non_phenotype_7 = [visit_probability[i] for i in non_case_visits]\n",
    "    results_7[float(phe)] = list(mannwhitneyu(phenotype_7, non_phenotype_7))\n",
    "    "
   ]
  },
  {
   "cell_type": "code",
   "execution_count": 15,
   "id": "handed-protection",
   "metadata": {},
   "outputs": [
    {
     "name": "stderr",
     "output_type": "stream",
     "text": [
      "100%|██████████| 1002/1002 [13:04<00:00,  1.28it/s]\n"
     ]
    }
   ],
   "source": [
    "results_14 = {}\n",
    "\n",
    "for phe in tqdm(phenotype_visits_14):\n",
    "    if phe == '':\n",
    "        continue\n",
    "    case_visits = []\n",
    "    for visit_id, diag_date, ed_date in phenotype_visits_14[phe]:\n",
    "        if visit_id not in visit_probability:\n",
    "            continue\n",
    "        if (diag_date-ed_date).days <= 14:\n",
    "            case_visits.append(visit_id)\n",
    "    case_visits = list(set(case_visits))\n",
    "    non_case_visits = list(set(np.array(pd.DataFrame(followup_visits_14))[:,0])-set(case_visits)-set(previous_conditions_phe_visit[float(phe)]))\n",
    "    phenotype_14 = [visit_probability[i] for i in case_visits]\n",
    "    non_phenotype_14 = [visit_probability[i] for i in non_case_visits]\n",
    "    results_14[float(phe)] = list(mannwhitneyu(phenotype_14, non_phenotype_14))\n",
    "    "
   ]
  },
  {
   "cell_type": "code",
   "execution_count": 16,
   "id": "spanish-rogers",
   "metadata": {},
   "outputs": [
    {
     "name": "stderr",
     "output_type": "stream",
     "text": [
      "100%|██████████| 1013/1013 [17:15<00:00,  1.02s/it]\n"
     ]
    }
   ],
   "source": [
    "results_21 = {}\n",
    "\n",
    "for phe in tqdm(phenotype_visits_21):\n",
    "    if phe == '':\n",
    "        continue\n",
    "    case_visits = []\n",
    "    for visit_id, diag_date, ed_date in phenotype_visits_21[phe]:\n",
    "        if visit_id not in visit_probability:\n",
    "            continue\n",
    "        if (diag_date-ed_date).days <= 21:\n",
    "            case_visits.append(visit_id)\n",
    "    case_visits = list(set(case_visits))\n",
    "    non_case_visits = list(set(np.array(pd.DataFrame(followup_visits_21))[:,0])-set(case_visits)-set(previous_conditions_phe_visit[float(phe)]))\n",
    "    phenotype_21 = [visit_probability[i] for i in case_visits]\n",
    "    non_phenotype_21 = [visit_probability[i] for i in non_case_visits]\n",
    "    results_21[float(phe)] = list(mannwhitneyu(phenotype_21, non_phenotype_21))\n",
    "    "
   ]
  },
  {
   "cell_type": "code",
   "execution_count": 17,
   "id": "familiar-slope",
   "metadata": {},
   "outputs": [
    {
     "name": "stderr",
     "output_type": "stream",
     "text": [
      "100%|██████████| 1018/1018 [21:12<00:00,  1.25s/it]\n"
     ]
    }
   ],
   "source": [
    "results_28 = {}\n",
    "\n",
    "for phe in tqdm(phenotype_visits_28):\n",
    "    if phe == '':\n",
    "        continue\n",
    "    case_visits = []\n",
    "    for visit_id, diag_date, ed_date in phenotype_visits_28[phe]:\n",
    "        if visit_id not in visit_probability:\n",
    "            continue\n",
    "        if (diag_date-ed_date).days <= 28:\n",
    "            case_visits.append(visit_id)\n",
    "    case_visits = list(set(case_visits))\n",
    "    non_case_visits = list(set(np.array(pd.DataFrame(followup_visits_28))[:,0])-set(case_visits)-set(previous_conditions_phe_visit[float(phe)]))\n",
    "    phenotype_28 = [visit_probability[i] for i in case_visits]\n",
    "    non_phenotype_28 = [visit_probability[i] for i in non_case_visits]\n",
    "    results_28[float(phe)] = list(mannwhitneyu(phenotype_28, non_phenotype_28))\n",
    "    "
   ]
  },
  {
   "cell_type": "code",
   "execution_count": 18,
   "id": "raising-crest",
   "metadata": {},
   "outputs": [
    {
     "name": "stderr",
     "output_type": "stream",
     "text": [
      "100%|██████████| 1037/1037 [40:53<00:00,  2.37s/it]\n"
     ]
    }
   ],
   "source": [
    "results_91 = {}\n",
    "\n",
    "for phe in tqdm(phenotype_visits_3m):\n",
    "    if phe == '':\n",
    "        continue\n",
    "    case_visits = []\n",
    "    for visit_id, diag_date, ed_date in phenotype_visits_3m[phe]:\n",
    "        if visit_id not in visit_probability:\n",
    "            continue\n",
    "        if (diag_date-ed_date).days <= 91:\n",
    "            case_visits.append(visit_id)\n",
    "    case_visits = list(set(case_visits))\n",
    "    non_case_visits = list(set(np.array(pd.DataFrame(followup_visits_3m))[:,0])-set(case_visits)-set(previous_conditions_phe_visit[float(phe)]))\n",
    "    phenotype_91 = [visit_probability[i] for i in case_visits]\n",
    "    non_phenotype_91 = [visit_probability[i] for i in non_case_visits]\n",
    "    results_91[float(phe)] = list(mannwhitneyu(phenotype_91, non_phenotype_91))\n",
    "    "
   ]
  },
  {
   "cell_type": "code",
   "execution_count": 19,
   "id": "superior-trunk",
   "metadata": {},
   "outputs": [
    {
     "name": "stderr",
     "output_type": "stream",
     "text": [
      "100%|██████████| 1043/1043 [1:00:51<00:00,  3.50s/it]\n"
     ]
    }
   ],
   "source": [
    "results_183 = {}\n",
    "\n",
    "for phe in tqdm(phenotype_visits_6m):\n",
    "    if phe == '':\n",
    "        continue\n",
    "    case_visits = []\n",
    "    for visit_id, diag_date, ed_date in phenotype_visits_6m[phe]:\n",
    "        if visit_id not in visit_probability:\n",
    "            continue\n",
    "        if (diag_date-ed_date).days <= 183:\n",
    "            case_visits.append(visit_id)\n",
    "    case_visits = list(set(case_visits))\n",
    "    non_case_visits = list(set(np.array(pd.DataFrame(followup_visits_6m))[:,0])-set(case_visits)-set(previous_conditions_phe_visit[float(phe)]))\n",
    "    phenotype_183 = [visit_probability[i] for i in case_visits]\n",
    "    non_phenotype_183 = [visit_probability[i] for i in non_case_visits]\n",
    "    results_183[float(phe)] = list(mannwhitneyu(phenotype_183, non_phenotype_183))\n",
    "    "
   ]
  },
  {
   "cell_type": "code",
   "execution_count": 20,
   "id": "victorian-providence",
   "metadata": {},
   "outputs": [
    {
     "name": "stderr",
     "output_type": "stream",
     "text": [
      "100%|██████████| 1048/1048 [1:11:42<00:00,  4.11s/it]\n"
     ]
    }
   ],
   "source": [
    "results_274 = {}\n",
    "\n",
    "for phe in tqdm(phenotype_visits_9m):\n",
    "    if phe == '':\n",
    "        continue\n",
    "    case_visits = []\n",
    "    for visit_id, diag_date, ed_date in phenotype_visits_9m[phe]:\n",
    "        if visit_id not in visit_probability:\n",
    "            continue\n",
    "        if (diag_date-ed_date).days <= 274:\n",
    "            case_visits.append(visit_id)\n",
    "    case_visits = list(set(case_visits))\n",
    "    non_case_visits = list(set(np.array(pd.DataFrame(followup_visits_9m))[:,0])-set(case_visits)-set(previous_conditions_phe_visit[float(phe)]))\n",
    "    phenotype_274 = [visit_probability[i] for i in case_visits]\n",
    "    non_phenotype_274 = [visit_probability[i] for i in non_case_visits]\n",
    "    results_274[float(phe)] = list(mannwhitneyu(phenotype_274, non_phenotype_274))\n",
    "    "
   ]
  },
  {
   "cell_type": "code",
   "execution_count": 21,
   "id": "leading-token",
   "metadata": {},
   "outputs": [
    {
     "name": "stderr",
     "output_type": "stream",
     "text": [
      "100%|██████████| 1048/1048 [1:16:21<00:00,  4.37s/it]\n"
     ]
    }
   ],
   "source": [
    "results_365 = {}\n",
    "\n",
    "for phe in tqdm(phenotype_visits_1y):\n",
    "    if phe == '':\n",
    "        continue\n",
    "    case_visits = []\n",
    "    for visit_id, diag_date, ed_date in phenotype_visits_1y[phe]:\n",
    "        if visit_id not in visit_probability:\n",
    "            continue\n",
    "        if (diag_date-ed_date).days <= 365:\n",
    "            case_visits.append(visit_id)\n",
    "    case_visits = list(set(case_visits))\n",
    "    non_case_visits = list(set(np.array(pd.DataFrame(followup_visits_1y))[:,0])-set(case_visits)-set(previous_conditions_phe_visit[float(phe)]))\n",
    "    phenotype_365 = [visit_probability[i] for i in case_visits]\n",
    "    non_phenotype_365 = [visit_probability[i] for i in non_case_visits]\n",
    "    results_365[float(phe)] = list(mannwhitneyu(phenotype_365, non_phenotype_365))\n",
    "    "
   ]
  },
  {
   "cell_type": "code",
   "execution_count": 22,
   "id": "radical-square",
   "metadata": {},
   "outputs": [],
   "source": [
    "pickle.dump(results_7, open('data/phenotype_mann_whitney_new_7.p', 'wb'))\n",
    "pickle.dump(results_14, open('data/phenotype_mann_whitney_new_14.p', 'wb'))\n",
    "pickle.dump(results_21, open('data/phenotype_mann_whitney_new_21.p', 'wb'))\n",
    "pickle.dump(results_28, open('data/phenotype_mann_whitney_new_28.p', 'wb'))\n",
    "pickle.dump(results_91, open('data/phenotype_mann_whitney_new_3m.p', 'wb'))\n",
    "pickle.dump(results_183, open('data/phenotype_mann_whitney_new_6m.p', 'wb'))\n",
    "pickle.dump(results_274, open('data/phenotype_mann_whitney_new_9m.p', 'wb'))\n",
    "pickle.dump(results_365, open('data/phenotype_mann_whitney_new_1y.p', 'wb'))"
   ]
  },
  {
   "cell_type": "code",
   "execution_count": null,
   "id": "decent-haiti",
   "metadata": {},
   "outputs": [],
   "source": []
  },
  {
   "cell_type": "code",
   "execution_count": null,
   "id": "included-lebanon",
   "metadata": {},
   "outputs": [],
   "source": []
  }
 ],
 "metadata": {
  "kernelspec": {
   "display_name": "Python 3",
   "language": "python",
   "name": "python3"
  },
  "language_info": {
   "codemirror_mode": {
    "name": "ipython",
    "version": 3
   },
   "file_extension": ".py",
   "mimetype": "text/x-python",
   "name": "python",
   "nbconvert_exporter": "python",
   "pygments_lexer": "ipython3",
   "version": "3.9.10"
  }
 },
 "nbformat": 4,
 "nbformat_minor": 5
}
