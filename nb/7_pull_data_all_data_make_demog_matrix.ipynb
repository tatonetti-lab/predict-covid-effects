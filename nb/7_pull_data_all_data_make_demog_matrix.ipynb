{
 "cells": [
  {
   "cell_type": "code",
   "execution_count": 1,
   "id": "excellent-memphis",
   "metadata": {},
   "outputs": [],
   "source": [
    "import pymysql \n",
    "import numpy as np\n",
    "import pandas as pd\n",
    "from datetime import datetime, timedelta\n",
    "from tqdm import tqdm\n",
    "from collections import defaultdict, Counter\n",
    "import _pickle as pickle\n",
    "import random"
   ]
  },
  {
   "cell_type": "code",
   "execution_count": 2,
   "id": "vulnerable-driving",
   "metadata": {},
   "outputs": [],
   "source": [
    "visit_data = pickle.load(open('data/visit_data.p', 'rb'))\n",
    "persons_data = pickle.load(open('data/persons_data.p', 'rb'))\n",
    "conditions = pickle.load(open('data/conditions.p', 'rb'))"
   ]
  },
  {
   "cell_type": "code",
   "execution_count": 3,
   "id": "effective-ordinance",
   "metadata": {},
   "outputs": [],
   "source": [
    "demographic_variables = ['age_child', 'age_adol', 'age_adult', 'age_senior', 'sex_1', 'AMERICAN INDIAN OR ALASKA', \n",
    "                         'ASIAN', 'BLACK OR AFRICAN AMERICAN', 'NAT.HAWAIIAN/OTH.PACIFIC ', 'WHITE', \n",
    "                         'HISPANIC OR LATINO OR SPANISH ORIGIN']"
   ]
  },
  {
   "cell_type": "code",
   "execution_count": 4,
   "id": "consistent-office",
   "metadata": {},
   "outputs": [
    {
     "name": "stderr",
     "output_type": "stream",
     "text": [
      "100%|██████████| 1573113/1573113 [26:13:37<00:00, 16.66it/s]   \n"
     ]
    }
   ],
   "source": [
    "demographic_matrix = open('data/all_visit_demographic_matrix.csv', 'w') \n",
    "\n",
    "for pat_enc_csn_id, sex_c, race_1, race_2, race_3, ethnicity, birth_date, zip_code in tqdm(persons_data):\n",
    "    if pat_enc_csn_id not in visit_data[:,0]:\n",
    "        continue\n",
    "    demographic_matrix.write(str(pat_enc_csn_id))\n",
    "    st_dt = visit_data[:,2][visit_data[:,0]==pat_enc_csn_id][0]\n",
    "    age = (st_dt-birth_date.date()).days/365.25\n",
    "    if age < 13:\n",
    "        demographic_matrix.write(',1,0,0,0,')\n",
    "    elif age < 19:\n",
    "        demographic_matrix.write(',0,1,0,0,')\n",
    "    elif age < 60:\n",
    "        demographic_matrix.write(',0,0,1,0,')\n",
    "    else:\n",
    "        demographic_matrix.write(',0,0,0,1,')\n",
    "    if sex_c == 1:\n",
    "        demographic_matrix.write('1,')\n",
    "    else:\n",
    "        demographic_matrix.write('0,')\n",
    "    for race in demographic_variables[5:10]:\n",
    "        if race in [k for k in [race_1, race_2, race_3] if k != None]:\n",
    "            demographic_matrix.write('1,')\n",
    "        else:\n",
    "            demographic_matrix.write('0,')\n",
    "    if ethnicity == 'HISPANIC OR LATINO OR SPANISH ORIGIN':\n",
    "        demographic_matrix.write('1\\n')\n",
    "    else:\n",
    "        demographic_matrix.write('0\\n')\n",
    "\n",
    "demographic_matrix.close()"
   ]
  },
  {
   "cell_type": "code",
   "execution_count": null,
   "id": "identified-corporation",
   "metadata": {},
   "outputs": [],
   "source": []
  }
 ],
 "metadata": {
  "kernelspec": {
   "display_name": "Python 3",
   "language": "python",
   "name": "python3"
  },
  "language_info": {
   "codemirror_mode": {
    "name": "ipython",
    "version": 3
   },
   "file_extension": ".py",
   "mimetype": "text/x-python",
   "name": "python",
   "nbconvert_exporter": "python",
   "pygments_lexer": "ipython3",
   "version": "3.9.10"
  }
 },
 "nbformat": 4,
 "nbformat_minor": 5
}
