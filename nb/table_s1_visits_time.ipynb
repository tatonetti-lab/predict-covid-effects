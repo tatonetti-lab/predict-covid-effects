{
 "cells": [
  {
   "cell_type": "code",
   "execution_count": 1,
   "id": "russian-collar",
   "metadata": {},
   "outputs": [],
   "source": [
    "import pandas as pd\n",
    "import numpy as np\n",
    "import _pickle as pickle\n",
    "from collections import Counter"
   ]
  },
  {
   "cell_type": "code",
   "execution_count": 2,
   "id": "random-deficit",
   "metadata": {},
   "outputs": [],
   "source": [
    "negative_training_set = pickle.load(open('../data/negative_training_set.p', 'rb'))\n",
    "positive_training_set = pickle.load(open('../data/positive_training_set.p', 'rb'))\n",
    "negative_eval_set = pickle.load(open('../data/negative_eval_set.p', 'rb'))\n",
    "positive_eval_set = pickle.load(open('../data/positive_eval_set.p', 'rb'))\n"
   ]
  },
  {
   "cell_type": "code",
   "execution_count": 3,
   "id": "surprising-specific",
   "metadata": {},
   "outputs": [],
   "source": [
    "datetime_matrix = pickle.load(open('../data/datetime_matrix.p', 'rb'))\n",
    "datetime_variables = pickle.load(open('../data/datetime_variables.p', 'rb'))\n",
    "all_visits_datetime = np.array(pd.read_csv('../data/all_visit_date_matrix.csv', header=None))"
   ]
  },
  {
   "cell_type": "code",
   "execution_count": 4,
   "id": "fresh-homework",
   "metadata": {},
   "outputs": [],
   "source": [
    "visits_data = pickle.load(open('../data/visit_data.p', 'rb'))\n",
    "\n",
    "visit_id_mrn = {}\n",
    "for visit_id, pat_mrn_id in visits_data[:,(0,1)]:\n",
    "    visit_id_mrn[visit_id] = pat_mrn_id\n",
    "    "
   ]
  },
  {
   "cell_type": "code",
   "execution_count": 5,
   "id": "former-gnome",
   "metadata": {},
   "outputs": [],
   "source": [
    "##table columns\n",
    "##negative training set # positive training set # negative eval set # positive eval set # all visits"
   ]
  },
  {
   "cell_type": "code",
   "execution_count": 18,
   "id": "medical-symposium",
   "metadata": {},
   "outputs": [
    {
     "data": {
      "text/plain": [
       "[[4670, 4670, 4670, 4670, 1573113]]"
      ]
     },
     "execution_count": 18,
     "metadata": {},
     "output_type": "execute_result"
    }
   ],
   "source": [
    "table_data = [[len(negative_training_set), len(positive_training_set), len(negative_eval_set), \n",
    "               len(positive_eval_set), len(all_visits_datetime[:,0])]]\n",
    "table_data"
   ]
  },
  {
   "cell_type": "code",
   "execution_count": 19,
   "id": "advance-assignment",
   "metadata": {},
   "outputs": [
    {
     "data": {
      "text/plain": [
       "[[4670, 4670, 4670, 4670, 1573113], [4606, 4178, 4592, 4137, 434152]]"
      ]
     },
     "execution_count": 19,
     "metadata": {},
     "output_type": "execute_result"
    }
   ],
   "source": [
    "table_data.append([len(set([visit_id_mrn[k] for k in negative_training_set])),\n",
    "                   len(set([visit_id_mrn[k] for k in positive_training_set])),\n",
    "                   len(set([visit_id_mrn[k] for k in negative_eval_set])),\n",
    "                   len(set([visit_id_mrn[k] for k in positive_eval_set])), \n",
    "                   len(set([visit_id_mrn[k] for k in all_visits_datetime[:,0]]))])\n",
    "\n",
    "table_data"
   ]
  },
  {
   "cell_type": "code",
   "execution_count": 20,
   "id": "complicated-stomach",
   "metadata": {},
   "outputs": [],
   "source": [
    "for i in range(len(datetime_variables)-1):\n",
    "    to_add = [Counter(np.array([datetime_matrix[k] for k in negative_training_set])[:,i])[1],\n",
    "              Counter(np.array([datetime_matrix[k] for k in positive_training_set])[:,i])[1],\n",
    "              Counter(np.array([datetime_matrix[k] for k in negative_eval_set])[:,i])[1],\n",
    "              Counter(np.array([datetime_matrix[k] for k in positive_eval_set])[:,i])[1],\n",
    "              Counter(all_visits_datetime[:,(i+1)])[1]]\n",
    "    percent_to_add = [to_add[l]/table_data[0][l] for l in range(5)]\n",
    "    table_data.append(to_add)\n",
    "    table_data.append(percent_to_add)"
   ]
  },
  {
   "cell_type": "code",
   "execution_count": 23,
   "id": "parliamentary-thursday",
   "metadata": {},
   "outputs": [],
   "source": [
    "table_columns = ['negative_training_set', 'positive_training_set', 'negative_eval_set', 'positive_eval_set', 'all_visits']\n",
    "table_rows = ['N(visits)', 'N(patients)']\n",
    "for k in datetime_variables[:-1]:\n",
    "    table_rows += [('N_' + str(k)), ('%_' + str(k))]"
   ]
  },
  {
   "cell_type": "code",
   "execution_count": 27,
   "id": "corporate-montreal",
   "metadata": {},
   "outputs": [],
   "source": [
    "pd.DataFrame(table_data, columns=table_columns, index=table_rows).to_csv('table_s1_datetime.csv')"
   ]
  },
  {
   "cell_type": "code",
   "execution_count": null,
   "id": "romance-status",
   "metadata": {},
   "outputs": [],
   "source": []
  }
 ],
 "metadata": {
  "kernelspec": {
   "display_name": "Python 3",
   "language": "python",
   "name": "python3"
  },
  "language_info": {
   "codemirror_mode": {
    "name": "ipython",
    "version": 3
   },
   "file_extension": ".py",
   "mimetype": "text/x-python",
   "name": "python",
   "nbconvert_exporter": "python",
   "pygments_lexer": "ipython3",
   "version": "3.9.10"
  }
 },
 "nbformat": 4,
 "nbformat_minor": 5
}
