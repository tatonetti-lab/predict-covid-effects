{
 "cells": [
  {
   "cell_type": "code",
   "execution_count": 1,
   "id": "noble-gnome",
   "metadata": {},
   "outputs": [],
   "source": [
    "import pandas as pd\n",
    "import numpy as np\n",
    "import _pickle as pickle\n",
    "from collections import Counter\n",
    "from tqdm import tqdm\n",
    "import pymysql"
   ]
  },
  {
   "cell_type": "code",
   "execution_count": 2,
   "id": "thermal-purple",
   "metadata": {},
   "outputs": [],
   "source": [
    "negative_training_set = pickle.load(open('../data/negative_training_set.p', 'rb'))\n",
    "positive_training_set = pickle.load(open('../data/positive_training_set.p', 'rb'))\n",
    "negative_eval_set = pickle.load(open('../data/negative_eval_set.p', 'rb'))\n",
    "positive_eval_set = pickle.load(open('../data/positive_eval_set.p', 'rb'))\n"
   ]
  },
  {
   "cell_type": "code",
   "execution_count": 3,
   "id": "metallic-upgrade",
   "metadata": {},
   "outputs": [],
   "source": [
    "diag_matrix = pickle.load(open('../data/diag_matrix.p', 'rb'))\n",
    "diag_variables = pickle.load(open('../data/diag_variables.p', 'rb'))\n"
   ]
  },
  {
   "cell_type": "code",
   "execution_count": 4,
   "id": "cathedral-service",
   "metadata": {},
   "outputs": [],
   "source": [
    "negative_training_diag = np.array([diag_matrix[k] for k in negative_training_set])\n",
    "positive_training_diag = np.array([diag_matrix[k] for k in positive_training_set])\n",
    "negative_eval_diag = np.array([diag_matrix[k] for k in negative_eval_set])\n",
    "positive_eval_diag = np.array([diag_matrix[k] for k in positive_eval_set])"
   ]
  },
  {
   "cell_type": "code",
   "execution_count": 5,
   "id": "finite-karaoke",
   "metadata": {},
   "outputs": [],
   "source": [
    "# start tunnel first: ssh -f [uni]@mimir.dbmi.columbia.edu -L 3307:127.0.0.1:3306 -N\n",
    "\n",
    "conn = pymysql.connect(host=\"127.0.0.1\", \n",
    "                       user=\"\", #uni\n",
    "                       port = ,\n",
    "                       passwd=\"\", #sql password\n",
    "                       db = \"\" ) #database\n",
    "cur = conn.cursor()"
   ]
  },
  {
   "cell_type": "code",
   "execution_count": 6,
   "id": "pleased-torture",
   "metadata": {},
   "outputs": [],
   "source": [
    "all_visits_diag = {}\n",
    "\n",
    "cur.execute('''select substring_index(icd10, '.', 1), count(distinct visit_id)\n",
    "                from vfinal_1_predict_covid_conditions\n",
    "                where substring_index(icd10, '.', 1) != ''\n",
    "                group by substring_index(icd10, '.', 1);''')\n",
    "\n",
    "for icd10, ct in cur.fetchall():\n",
    "    all_visits_diag[icd10] = ct"
   ]
  },
  {
   "cell_type": "code",
   "execution_count": 7,
   "id": "surrounded-print",
   "metadata": {},
   "outputs": [],
   "source": [
    "visits_data = pickle.load(open('../data/visit_data.p', 'rb'))\n",
    "\n",
    "visit_id_mrn = {}\n",
    "for visit_id, pat_mrn_id in visits_data[:,(0,1)]:\n",
    "    visit_id_mrn[visit_id] = pat_mrn_id\n",
    "    "
   ]
  },
  {
   "cell_type": "code",
   "execution_count": 8,
   "id": "bibliographic-bloom",
   "metadata": {},
   "outputs": [],
   "source": [
    "##table columns\n",
    "##negative training set # positive training set # negative eval set # positive eval set # all visits"
   ]
  },
  {
   "cell_type": "code",
   "execution_count": 10,
   "id": "bibliographic-theta",
   "metadata": {},
   "outputs": [
    {
     "data": {
      "text/plain": [
       "[[4670, 4670, 4670, 4670, 1573113]]"
      ]
     },
     "execution_count": 10,
     "metadata": {},
     "output_type": "execute_result"
    }
   ],
   "source": [
    "table_data = [[len(negative_training_set), len(positive_training_set), len(negative_eval_set), \n",
    "               len(positive_eval_set), 1573113]]\n",
    "table_data"
   ]
  },
  {
   "cell_type": "code",
   "execution_count": 11,
   "id": "enclosed-socket",
   "metadata": {},
   "outputs": [
    {
     "data": {
      "text/plain": [
       "[[4670, 4670, 4670, 4670, 1573113], [4606, 4178, 4592, 4137, 434152]]"
      ]
     },
     "execution_count": 11,
     "metadata": {},
     "output_type": "execute_result"
    }
   ],
   "source": [
    "table_data.append([len(set([visit_id_mrn[k] for k in negative_training_set])),\n",
    "                   len(set([visit_id_mrn[k] for k in positive_training_set])),\n",
    "                   len(set([visit_id_mrn[k] for k in negative_eval_set])),\n",
    "                   len(set([visit_id_mrn[k] for k in positive_eval_set])), \n",
    "                   434152])\n",
    "\n",
    "table_data"
   ]
  },
  {
   "cell_type": "code",
   "execution_count": 12,
   "id": "preliminary-finance",
   "metadata": {},
   "outputs": [
    {
     "name": "stderr",
     "output_type": "stream",
     "text": [
      "100%|██████████| 1600/1600 [00:05<00:00, 284.96it/s]\n"
     ]
    }
   ],
   "source": [
    "for i in tqdm(range(len(diag_variables))):\n",
    "    icd10_code = diag_variables[i]\n",
    "    to_add = [Counter(negative_training_diag[:,i])[1],\n",
    "              Counter(positive_training_diag[:,i])[1],\n",
    "              Counter(negative_eval_diag[:,i])[1],\n",
    "              Counter(positive_eval_diag[:,i])[1],\n",
    "              all_visits_diag[icd10_code]]\n",
    "    percent_to_add = [to_add[l]/table_data[0][l] for l in range(5)]\n",
    "    table_data.append(to_add)\n",
    "    table_data.append(percent_to_add)"
   ]
  },
  {
   "cell_type": "code",
   "execution_count": 13,
   "id": "personalized-patrol",
   "metadata": {},
   "outputs": [],
   "source": [
    "table_columns = ['negative_training_set', 'positive_training_set', 'negative_eval_set', 'positive_eval_set', 'all_visits']\n",
    "table_rows = ['N(visits)', 'N(patients)']\n",
    "for k in diag_variables:\n",
    "    table_rows += [('N_' + k), ('%_' + k)]"
   ]
  },
  {
   "cell_type": "code",
   "execution_count": 14,
   "id": "separate-reference",
   "metadata": {},
   "outputs": [],
   "source": [
    "pd.DataFrame(table_data, columns=table_columns, index=table_rows).to_csv('table_s2_diag.csv')"
   ]
  },
  {
   "cell_type": "code",
   "execution_count": null,
   "id": "oriental-distinction",
   "metadata": {},
   "outputs": [],
   "source": []
  }
 ],
 "metadata": {
  "kernelspec": {
   "display_name": "Python 3",
   "language": "python",
   "name": "python3"
  },
  "language_info": {
   "codemirror_mode": {
    "name": "ipython",
    "version": 3
   },
   "file_extension": ".py",
   "mimetype": "text/x-python",
   "name": "python",
   "nbconvert_exporter": "python",
   "pygments_lexer": "ipython3",
   "version": "3.9.10"
  }
 },
 "nbformat": 4,
 "nbformat_minor": 5
}
