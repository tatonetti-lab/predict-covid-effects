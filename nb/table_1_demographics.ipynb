{
 "cells": [
  {
   "cell_type": "code",
   "execution_count": 19,
   "id": "higher-colony",
   "metadata": {},
   "outputs": [],
   "source": [
    "import pandas as pd\n",
    "import numpy as np\n",
    "import _pickle as pickle\n",
    "from collections import Counter"
   ]
  },
  {
   "cell_type": "code",
   "execution_count": 7,
   "id": "continent-intersection",
   "metadata": {},
   "outputs": [],
   "source": [
    "negative_training_set = pickle.load(open('../data/negative_training_set.p', 'rb'))\n",
    "positive_training_set = pickle.load(open('../data/positive_training_set.p', 'rb'))\n",
    "negative_eval_set = pickle.load(open('../data/negative_eval_set.p', 'rb'))\n",
    "positive_eval_set = pickle.load(open('../data/positive_eval_set.p', 'rb'))\n"
   ]
  },
  {
   "cell_type": "code",
   "execution_count": 40,
   "id": "interim-reward",
   "metadata": {},
   "outputs": [],
   "source": [
    "demographic_matrix = pickle.load(open('../data/demographic_matrix.p', 'rb'))\n",
    "demographic_variables = pickle.load(open('../data/demographic_variables.p', 'rb'))\n",
    "all_visits_demographics = np.array(pd.read_csv('../data/all_visit_demographic_matrix.csv', header=None))"
   ]
  },
  {
   "cell_type": "code",
   "execution_count": 25,
   "id": "typical-authorization",
   "metadata": {},
   "outputs": [],
   "source": [
    "visits_data = pickle.load(open('../data/visit_data.p', 'rb'))\n",
    "\n",
    "visit_id_mrn = {}\n",
    "for visit_id, pat_mrn_id in visits_data[:,(0,1)]:\n",
    "    visit_id_mrn[visit_id] = pat_mrn_id\n",
    "    "
   ]
  },
  {
   "cell_type": "code",
   "execution_count": 28,
   "id": "essential-application",
   "metadata": {},
   "outputs": [],
   "source": [
    "##table columns\n",
    "##negative training set # positive training set # negative eval set # positive eval set # all visits"
   ]
  },
  {
   "cell_type": "code",
   "execution_count": 50,
   "id": "boring-vinyl",
   "metadata": {},
   "outputs": [
    {
     "data": {
      "text/plain": [
       "[[4670, 4670, 4670, 4670, 1573113]]"
      ]
     },
     "execution_count": 50,
     "metadata": {},
     "output_type": "execute_result"
    }
   ],
   "source": [
    "table_data = [[len(negative_training_set), len(positive_training_set), len(negative_eval_set), \n",
    "               len(positive_eval_set), len(all_visits_demographics[:,0])]]\n",
    "table_data"
   ]
  },
  {
   "cell_type": "code",
   "execution_count": 51,
   "id": "collective-headquarters",
   "metadata": {},
   "outputs": [
    {
     "data": {
      "text/plain": [
       "[[4670, 4670, 4670, 4670, 1573113], [4606, 4178, 4592, 4137, 434152]]"
      ]
     },
     "execution_count": 51,
     "metadata": {},
     "output_type": "execute_result"
    }
   ],
   "source": [
    "table_data.append([len(set([visit_id_mrn[k] for k in negative_training_set])),\n",
    "                   len(set([visit_id_mrn[k] for k in positive_training_set])),\n",
    "                   len(set([visit_id_mrn[k] for k in negative_eval_set])),\n",
    "                   len(set([visit_id_mrn[k] for k in positive_eval_set])), \n",
    "                   len(set([visit_id_mrn[k] for k in all_visits_demographics[:,0]]))])\n",
    "\n",
    "table_data"
   ]
  },
  {
   "cell_type": "code",
   "execution_count": 52,
   "id": "charged-marriage",
   "metadata": {
    "scrolled": true
   },
   "outputs": [],
   "source": [
    "for i in range(11):\n",
    "    to_add = [Counter(np.array([demographic_matrix[k] for k in negative_training_set])[:,i])[1],\n",
    "              Counter(np.array([demographic_matrix[k] for k in positive_training_set])[:,i])[1],\n",
    "              Counter(np.array([demographic_matrix[k] for k in negative_eval_set])[:,i])[1],\n",
    "              Counter(np.array([demographic_matrix[k] for k in positive_eval_set])[:,i])[1],\n",
    "              Counter(all_visits_demographics[:,(i+1)])[1]]\n",
    "    percent_to_add = [to_add[l]/table_data[0][l] for l in range(5)]\n",
    "    table_data.append(to_add)\n",
    "    table_data.append(percent_to_add)"
   ]
  },
  {
   "cell_type": "code",
   "execution_count": 53,
   "id": "indian-slovakia",
   "metadata": {},
   "outputs": [],
   "source": [
    "table_columns = ['negative_training_set', 'positive_training_set', 'negative_eval_set', 'positive_eval_set', 'all_visits']\n",
    "table_rows = ['N(visits)', 'N(patients)']\n",
    "for k in demographic_variables:\n",
    "    table_rows += [('N_' + k), ('%_' + k)]"
   ]
  },
  {
   "cell_type": "code",
   "execution_count": 54,
   "id": "transsexual-management",
   "metadata": {},
   "outputs": [],
   "source": [
    "pd.DataFrame(table_data, columns=table_columns, index=table_rows).to_csv('table_1_demographics.csv')"
   ]
  },
  {
   "cell_type": "code",
   "execution_count": null,
   "id": "hollow-oliver",
   "metadata": {},
   "outputs": [],
   "source": []
  }
 ],
 "metadata": {
  "kernelspec": {
   "display_name": "Python 3",
   "language": "python",
   "name": "python3"
  },
  "language_info": {
   "codemirror_mode": {
    "name": "ipython",
    "version": 3
   },
   "file_extension": ".py",
   "mimetype": "text/x-python",
   "name": "python",
   "nbconvert_exporter": "python",
   "pygments_lexer": "ipython3",
   "version": "3.9.10"
  }
 },
 "nbformat": 4,
 "nbformat_minor": 5
}
