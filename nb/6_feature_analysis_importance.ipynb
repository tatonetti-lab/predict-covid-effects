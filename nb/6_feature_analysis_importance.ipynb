{
 "cells": [
  {
   "cell_type": "code",
   "execution_count": 1,
   "id": "material-violence",
   "metadata": {},
   "outputs": [],
   "source": [
    "import numpy as np\n",
    "import pandas as pd\n",
    "from datetime import datetime, timedelta\n",
    "from tqdm import tqdm\n",
    "from collections import defaultdict, Counter\n",
    "import _pickle as pickle\n",
    "import random\n",
    "from sklearn.ensemble import RandomForestClassifier\n",
    "import matplotlib.pyplot as plt\n",
    "import seaborn as sns\n",
    "from sklearn.metrics import roc_curve, auc"
   ]
  },
  {
   "cell_type": "code",
   "execution_count": 2,
   "id": "congressional-justice",
   "metadata": {},
   "outputs": [],
   "source": [
    "demographic_matrix = pickle.load(open('data/demographic_matrix.p', 'rb'))\n",
    "demographic_variables = pickle.load(open('data/demographic_variables.p', 'rb'))\n",
    "datetime_matrix = pickle.load(open('data/datetime_matrix.p', 'rb'))\n",
    "datetime_variables = pickle.load(open('data/datetime_variables.p', 'rb'))\n",
    "diag_matrix = pickle.load(open('data/diag_matrix.p', 'rb'))\n",
    "diag_variables = pickle.load(open('data/diag_variables.p', 'rb'))\n",
    "negative_training_set = pickle.load(open('data/negative_training_set.p', 'rb'))\n",
    "positive_training_set = pickle.load(open('data/positive_training_set.p', 'rb'))"
   ]
  },
  {
   "cell_type": "code",
   "execution_count": 3,
   "id": "offshore-agency",
   "metadata": {},
   "outputs": [],
   "source": [
    "full_matrix = []\n",
    "\n",
    "for pat_enc_csn_id in positive_training_set:\n",
    "    to_add = demographic_matrix[pat_enc_csn_id]\n",
    "    to_add += datetime_matrix[pat_enc_csn_id]\n",
    "    to_add += diag_matrix[pat_enc_csn_id]\n",
    "    full_matrix.append(to_add)\n",
    "    \n",
    "for pat_enc_csn_id in negative_training_set:\n",
    "    to_add = demographic_matrix[pat_enc_csn_id]\n",
    "    to_add += datetime_matrix[pat_enc_csn_id]\n",
    "    to_add += diag_matrix[pat_enc_csn_id]\n",
    "    full_matrix.append(to_add)"
   ]
  },
  {
   "cell_type": "code",
   "execution_count": 4,
   "id": "living-olympus",
   "metadata": {},
   "outputs": [
    {
     "data": {
      "text/plain": [
       "Counter({1637: 9340})"
      ]
     },
     "execution_count": 4,
     "metadata": {},
     "output_type": "execute_result"
    }
   ],
   "source": [
    "Counter([len(i) for i in full_matrix])"
   ]
  },
  {
   "cell_type": "code",
   "execution_count": 5,
   "id": "prospective-demographic",
   "metadata": {},
   "outputs": [
    {
     "data": {
      "text/plain": [
       "1637"
      ]
     },
     "execution_count": 5,
     "metadata": {},
     "output_type": "execute_result"
    }
   ],
   "source": [
    "full_variable_list = demographic_variables + datetime_variables[:-1] + diag_variables\n",
    "len(full_variable_list)"
   ]
  },
  {
   "cell_type": "code",
   "execution_count": 6,
   "id": "subtle-hypothesis",
   "metadata": {},
   "outputs": [
    {
     "data": {
      "text/plain": [
       "(4670, 4670)"
      ]
     },
     "execution_count": 6,
     "metadata": {},
     "output_type": "execute_result"
    }
   ],
   "source": [
    "len(positive_training_set), len(negative_training_set)"
   ]
  },
  {
   "cell_type": "code",
   "execution_count": 7,
   "id": "written-fusion",
   "metadata": {},
   "outputs": [
    {
     "data": {
      "text/plain": [
       "(9340, Counter({1: 4670, 0: 4670}))"
      ]
     },
     "execution_count": 7,
     "metadata": {},
     "output_type": "execute_result"
    }
   ],
   "source": [
    "covid_non_covid_visits = [1 for i in range(4670)] + [0 for i in range(4670)]\n",
    "len(covid_non_covid_visits), Counter(covid_non_covid_visits)"
   ]
  },
  {
   "cell_type": "code",
   "execution_count": 8,
   "id": "forbidden-horizon",
   "metadata": {},
   "outputs": [],
   "source": [
    "full_matrix = np.array(full_matrix)"
   ]
  },
  {
   "cell_type": "code",
   "execution_count": 9,
   "id": "published-vehicle",
   "metadata": {},
   "outputs": [],
   "source": [
    "negative_testing_set = pickle.load(open('data/negative_eval_set.p', 'rb'))\n",
    "positive_testing_set = pickle.load(open('data/positive_eval_set.p', 'rb'))"
   ]
  },
  {
   "cell_type": "code",
   "execution_count": 10,
   "id": "genuine-turkish",
   "metadata": {},
   "outputs": [],
   "source": [
    "full_matrix_testing = []\n",
    "\n",
    "for pat_enc_csn_id in positive_testing_set:\n",
    "    to_add = demographic_matrix[pat_enc_csn_id]\n",
    "    to_add += datetime_matrix[pat_enc_csn_id]\n",
    "    to_add += diag_matrix[pat_enc_csn_id]\n",
    "    full_matrix_testing.append(to_add)\n",
    "    \n",
    "for pat_enc_csn_id in negative_testing_set:\n",
    "    to_add = demographic_matrix[pat_enc_csn_id]\n",
    "    to_add += datetime_matrix[pat_enc_csn_id]\n",
    "    to_add += diag_matrix[pat_enc_csn_id]\n",
    "    full_matrix_testing.append(to_add)"
   ]
  },
  {
   "cell_type": "code",
   "execution_count": 11,
   "id": "planned-proportion",
   "metadata": {},
   "outputs": [
    {
     "data": {
      "text/plain": [
       "(9340, Counter({1: 4670, 0: 4670}))"
      ]
     },
     "execution_count": 11,
     "metadata": {},
     "output_type": "execute_result"
    }
   ],
   "source": [
    "covid_non_covid_visits_testing = [1 for i in range(4670)] + [0 for i in range(4670)]\n",
    "len(covid_non_covid_visits_testing), Counter(covid_non_covid_visits_testing)"
   ]
  },
  {
   "cell_type": "code",
   "execution_count": 12,
   "id": "economic-control",
   "metadata": {},
   "outputs": [],
   "source": [
    "full_matrix_testing = np.array(full_matrix_testing)"
   ]
  },
  {
   "cell_type": "code",
   "execution_count": 13,
   "id": "quiet-hartford",
   "metadata": {},
   "outputs": [
    {
     "name": "stdout",
     "output_type": "stream",
     "text": [
      "training_oob_auroc 0.8957386892507186\n",
      "training_auroc 0.9866616381385582\n",
      "testing_auroc 0.8958289276396334\n"
     ]
    }
   ],
   "source": [
    "rf = RandomForestClassifier(n_estimators=190, random_state=1, oob_score=True, max_depth=69)\n",
    "rf.fit(full_matrix, covid_non_covid_visits)\n",
    "estimate_covid_oob = rf.oob_decision_function_[:,1]\n",
    "estimate_covid = rf.predict_proba(full_matrix)[:,1]\n",
    "testing_covid = rf.predict_proba(full_matrix_testing)[:,1]\n",
    "false_positive_rate, true_positive_rate, thresholds = roc_curve(covid_non_covid_visits, estimate_covid_oob)\n",
    "roc_auc = auc(false_positive_rate, true_positive_rate)\n",
    "print('training_oob_auroc',roc_auc)\n",
    "false_positive_rate, true_positive_rate, thresholds = roc_curve(covid_non_covid_visits, estimate_covid)\n",
    "roc_auc = auc(false_positive_rate, true_positive_rate)\n",
    "print('training_auroc',roc_auc)\n",
    "false_positive_rate, true_positive_rate, thresholds = roc_curve(covid_non_covid_visits_testing, testing_covid)\n",
    "roc_auc = auc(false_positive_rate, true_positive_rate)\n",
    "print('testing_auroc',roc_auc)\n",
    "    "
   ]
  },
  {
   "cell_type": "code",
   "execution_count": 14,
   "id": "alpha-jimmy",
   "metadata": {},
   "outputs": [],
   "source": [
    "pickle.dump(rf, open('random_forest_model_depth_69_trees_190.p', 'wb'))"
   ]
  },
  {
   "cell_type": "code",
   "execution_count": 15,
   "id": "integral-diagram",
   "metadata": {},
   "outputs": [],
   "source": [
    "importances = list(rf.feature_importances_)"
   ]
  },
  {
   "cell_type": "code",
   "execution_count": 16,
   "id": "accurate-think",
   "metadata": {},
   "outputs": [
    {
     "data": {
      "text/plain": [
       "(1637, 1637)"
      ]
     },
     "execution_count": 16,
     "metadata": {},
     "output_type": "execute_result"
    }
   ],
   "source": [
    "len(full_variable_list), len(importances)"
   ]
  },
  {
   "cell_type": "code",
   "execution_count": 17,
   "id": "hungry-effects",
   "metadata": {},
   "outputs": [],
   "source": [
    "importance_table = pd.DataFrame(np.vstack((np.array(full_variable_list), np.array(importances))).T, columns=['feature', 'importance'])"
   ]
  },
  {
   "cell_type": "code",
   "execution_count": 18,
   "id": "handled-boutique",
   "metadata": {},
   "outputs": [
    {
     "data": {
      "text/html": [
       "<div>\n",
       "<style scoped>\n",
       "    .dataframe tbody tr th:only-of-type {\n",
       "        vertical-align: middle;\n",
       "    }\n",
       "\n",
       "    .dataframe tbody tr th {\n",
       "        vertical-align: top;\n",
       "    }\n",
       "\n",
       "    .dataframe thead th {\n",
       "        text-align: right;\n",
       "    }\n",
       "</style>\n",
       "<table border=\"1\" class=\"dataframe\">\n",
       "  <thead>\n",
       "    <tr style=\"text-align: right;\">\n",
       "      <th></th>\n",
       "      <th>feature</th>\n",
       "      <th>importance</th>\n",
       "    </tr>\n",
       "  </thead>\n",
       "  <tbody>\n",
       "    <tr>\n",
       "      <th>564</th>\n",
       "      <td>R06</td>\n",
       "      <td>0.064984</td>\n",
       "    </tr>\n",
       "    <tr>\n",
       "      <th>310</th>\n",
       "      <td>R09</td>\n",
       "      <td>0.062809</td>\n",
       "    </tr>\n",
       "    <tr>\n",
       "      <th>13</th>\n",
       "      <td>2020-04-01</td>\n",
       "      <td>0.054332</td>\n",
       "    </tr>\n",
       "    <tr>\n",
       "      <th>416</th>\n",
       "      <td>R05</td>\n",
       "      <td>0.025933</td>\n",
       "    </tr>\n",
       "    <tr>\n",
       "      <th>520</th>\n",
       "      <td>J12</td>\n",
       "      <td>0.023595</td>\n",
       "    </tr>\n",
       "    <tr>\n",
       "      <th>...</th>\n",
       "      <td>...</td>\n",
       "      <td>...</td>\n",
       "    </tr>\n",
       "    <tr>\n",
       "      <th>587</th>\n",
       "      <td>F23</td>\n",
       "      <td>0.0</td>\n",
       "    </tr>\n",
       "    <tr>\n",
       "      <th>1159</th>\n",
       "      <td>V01</td>\n",
       "      <td>0.0</td>\n",
       "    </tr>\n",
       "    <tr>\n",
       "      <th>586</th>\n",
       "      <td>D66</td>\n",
       "      <td>0.0</td>\n",
       "    </tr>\n",
       "    <tr>\n",
       "      <th>582</th>\n",
       "      <td>A57</td>\n",
       "      <td>0.0</td>\n",
       "    </tr>\n",
       "    <tr>\n",
       "      <th>1636</th>\n",
       "      <td>R86</td>\n",
       "      <td>0.0</td>\n",
       "    </tr>\n",
       "  </tbody>\n",
       "</table>\n",
       "<p>1637 rows × 2 columns</p>\n",
       "</div>"
      ],
      "text/plain": [
       "         feature importance\n",
       "564          R06   0.064984\n",
       "310          R09   0.062809\n",
       "13    2020-04-01   0.054332\n",
       "416          R05   0.025933\n",
       "520          J12   0.023595\n",
       "...          ...        ...\n",
       "587          F23        0.0\n",
       "1159         V01        0.0\n",
       "586          D66        0.0\n",
       "582          A57        0.0\n",
       "1636         R86        0.0\n",
       "\n",
       "[1637 rows x 2 columns]"
      ]
     },
     "execution_count": 18,
     "metadata": {},
     "output_type": "execute_result"
    }
   ],
   "source": [
    "importance_table.sort_values(by=['importance'], ascending=False)"
   ]
  },
  {
   "cell_type": "code",
   "execution_count": 19,
   "id": "streaming-donor",
   "metadata": {},
   "outputs": [],
   "source": [
    "importance_table.to_csv('data/final_feature_importances.csv', index=False)"
   ]
  },
  {
   "cell_type": "code",
   "execution_count": null,
   "id": "moved-comedy",
   "metadata": {},
   "outputs": [],
   "source": []
  }
 ],
 "metadata": {
  "kernelspec": {
   "display_name": "Python 3",
   "language": "python",
   "name": "python3"
  },
  "language_info": {
   "codemirror_mode": {
    "name": "ipython",
    "version": 3
   },
   "file_extension": ".py",
   "mimetype": "text/x-python",
   "name": "python",
   "nbconvert_exporter": "python",
   "pygments_lexer": "ipython3",
   "version": "3.9.10"
  }
 },
 "nbformat": 4,
 "nbformat_minor": 5
}
