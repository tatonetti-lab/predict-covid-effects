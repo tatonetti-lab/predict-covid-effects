{
 "cells": [
  {
   "cell_type": "code",
   "execution_count": 1,
   "id": "excellent-memphis",
   "metadata": {},
   "outputs": [],
   "source": [
    "import pymysql \n",
    "import numpy as np\n",
    "import pandas as pd\n",
    "from datetime import datetime, timedelta\n",
    "from tqdm import tqdm\n",
    "from collections import defaultdict, Counter\n",
    "import _pickle as pickle\n",
    "import random"
   ]
  },
  {
   "cell_type": "code",
   "execution_count": 2,
   "id": "lyric-converter",
   "metadata": {},
   "outputs": [],
   "source": [
    "visit_data = pickle.load(open('data/visit_data.p', 'rb'))\n",
    "persons_data = pickle.load(open('data/persons_data.p', 'rb'))\n",
    "conditions = pickle.load(open('data/conditions.p', 'rb'))"
   ]
  },
  {
   "cell_type": "code",
   "execution_count": 4,
   "id": "fifteen-factory",
   "metadata": {},
   "outputs": [],
   "source": [
    "diag_variables = pickle.load(open('data/diag_variables.p', 'rb'))"
   ]
  },
  {
   "cell_type": "code",
   "execution_count": 5,
   "id": "colonial-resource",
   "metadata": {},
   "outputs": [
    {
     "name": "stderr",
     "output_type": "stream",
     "text": [
      "100%|██████████| 1573113/1573113 [28:18:09<00:00, 15.44it/s]   \n"
     ]
    }
   ],
   "source": [
    "diag_matrix = open('data/all_visit_diag_matrix.csv', 'w')\n",
    "\n",
    "for pat_enc_csn_id, sex_c, race_1, race_2, race_3, ethnicity, birth_date, zip_code in tqdm(persons_data):\n",
    "    if pat_enc_csn_id not in visit_data[:,0]:\n",
    "        continue\n",
    "    diag_matrix.write(str(pat_enc_csn_id))\n",
    "    diags = set(conditions[:,2][conditions[:,0]==pat_enc_csn_id])\n",
    "    diags = [k.split('.')[0] for k in diags if k != 'U07.1']\n",
    "    for d in diag_variables:\n",
    "        if d in diags:\n",
    "            diag_matrix.write(',1')\n",
    "        else:\n",
    "            diag_matrix.write(',0')\n",
    "    diag_matrix.write('\\n')\n",
    "\n",
    "diag_matrix.close()\n",
    "    "
   ]
  },
  {
   "cell_type": "code",
   "execution_count": 6,
   "id": "pharmaceutical-quantum",
   "metadata": {},
   "outputs": [
    {
     "data": {
      "text/plain": [
       "16431"
      ]
     },
     "execution_count": 6,
     "metadata": {},
     "output_type": "execute_result"
    }
   ],
   "source": [
    "len(set(conditions[:,2]))"
   ]
  },
  {
   "cell_type": "code",
   "execution_count": null,
   "id": "knowing-grammar",
   "metadata": {},
   "outputs": [],
   "source": []
  }
 ],
 "metadata": {
  "kernelspec": {
   "display_name": "Python 3",
   "language": "python",
   "name": "python3"
  },
  "language_info": {
   "codemirror_mode": {
    "name": "ipython",
    "version": 3
   },
   "file_extension": ".py",
   "mimetype": "text/x-python",
   "name": "python",
   "nbconvert_exporter": "python",
   "pygments_lexer": "ipython3",
   "version": "3.9.10"
  }
 },
 "nbformat": 4,
 "nbformat_minor": 5
}
