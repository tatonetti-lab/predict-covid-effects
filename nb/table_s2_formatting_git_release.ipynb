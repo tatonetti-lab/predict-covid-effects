{
 "cells": [
  {
   "cell_type": "code",
   "execution_count": 1,
   "id": "burning-roots",
   "metadata": {},
   "outputs": [],
   "source": [
    "import pandas as pd\n",
    "from tqdm import tqdm\n",
    "import numpy as np"
   ]
  },
  {
   "cell_type": "code",
   "execution_count": 2,
   "id": "soviet-reading",
   "metadata": {},
   "outputs": [],
   "source": [
    "table = pd.read_csv('table_s2_diag.csv')"
   ]
  },
  {
   "cell_type": "code",
   "execution_count": 3,
   "id": "helpful-culture",
   "metadata": {},
   "outputs": [
    {
     "data": {
      "text/plain": [
       "Index(['Unnamed: 0', 'negative_training_set', 'positive_training_set',\n",
       "       'negative_eval_set', 'positive_eval_set', 'all_visits'],\n",
       "      dtype='object')"
      ]
     },
     "execution_count": 3,
     "metadata": {},
     "output_type": "execute_result"
    }
   ],
   "source": [
    "table.columns"
   ]
  },
  {
   "cell_type": "code",
   "execution_count": 4,
   "id": "weird-bookmark",
   "metadata": {},
   "outputs": [
    {
     "name": "stderr",
     "output_type": "stream",
     "text": [
      "100%|██████████| 3202/3202 [00:00<00:00, 325540.21it/s]\n"
     ]
    }
   ],
   "source": [
    "censored_data = []\n",
    "m_cen_per = 10/4670\n",
    "all_cen_per = 10/1573113\n",
    "\n",
    "for term, neg_tr, pos_tr, neg_ev, pos_ev, all_vi in tqdm(np.array(table)):\n",
    "    if '%' in term:\n",
    "        if neg_tr < m_cen_per:\n",
    "            neg_tr = '< 0.21%'\n",
    "        else:\n",
    "            neg_tr = str(round(100*neg_tr, 2)) + '%'\n",
    "        if pos_tr < m_cen_per:\n",
    "            pos_tr = '< 0.21%'\n",
    "        else:\n",
    "            pos_tr = str(round(100*pos_tr, 2)) + '%'\n",
    "        if neg_ev < m_cen_per:\n",
    "            neg_ev = '< 0.21%'\n",
    "        else:\n",
    "            neg_ev = str(round(100*neg_ev, 2)) + '%'\n",
    "        if pos_ev < m_cen_per:\n",
    "            pos_ev = '< 0.21%'\n",
    "        else:\n",
    "            pos_ev = str(round(100*pos_ev, 2)) + '%'\n",
    "        if all_vi < all_cen_per:\n",
    "            all_vi = '< 6.36E4%'\n",
    "        else:\n",
    "            all_vi = str(round(100*all_vi, 2)) + '%'\n",
    "        censored_data.append([term, neg_tr, pos_tr, neg_ev, pos_ev, all_vi])\n",
    "    else:\n",
    "        if neg_tr < 10:\n",
    "            neg_tr = '< 10'\n",
    "        if pos_tr < 10:\n",
    "            pos_tr = '< 10'\n",
    "        if neg_ev < 10:\n",
    "            neg_ev = '< 10'\n",
    "        if pos_ev < 10:\n",
    "            pos_ev = '< 10'\n",
    "        if all_vi < 10:\n",
    "            all_vi = '< 10'\n",
    "        censored_data.append([term, neg_tr, pos_tr, neg_ev, pos_ev, all_vi])"
   ]
  },
  {
   "cell_type": "code",
   "execution_count": null,
   "id": "compliant-trance",
   "metadata": {},
   "outputs": [],
   "source": []
  },
  {
   "cell_type": "code",
   "execution_count": 5,
   "id": "thousand-montana",
   "metadata": {},
   "outputs": [],
   "source": [
    "pd.DataFrame(censored_data, \n",
    "             columns=['metric','negative_training_set', 'positive_training_set',\n",
    "                      'negative_eval_set', 'positive_eval_set', 'all_visits']).to_csv('table_s2_diag_formatted_git.csv', index=None)"
   ]
  },
  {
   "cell_type": "code",
   "execution_count": null,
   "id": "quality-aaron",
   "metadata": {},
   "outputs": [],
   "source": []
  }
 ],
 "metadata": {
  "kernelspec": {
   "display_name": "Python 3",
   "language": "python",
   "name": "python3"
  },
  "language_info": {
   "codemirror_mode": {
    "name": "ipython",
    "version": 3
   },
   "file_extension": ".py",
   "mimetype": "text/x-python",
   "name": "python",
   "nbconvert_exporter": "python",
   "pygments_lexer": "ipython3",
   "version": "3.9.10"
  }
 },
 "nbformat": 4,
 "nbformat_minor": 5
}
