{
 "cells": [
  {
   "cell_type": "code",
   "execution_count": 1,
   "id": "theoretical-compromise",
   "metadata": {},
   "outputs": [],
   "source": [
    "import pymysql \n",
    "import numpy as np\n",
    "import pandas as pd\n",
    "from datetime import datetime, timedelta\n",
    "from tqdm import tqdm\n",
    "from collections import defaultdict, Counter\n",
    "import _pickle as pickle\n",
    "import random\n",
    "from scipy.stats import epps_singleton_2samp, wasserstein_distance, ks_2samp\n",
    "import matplotlib.pyplot as plt\n",
    "import seaborn as sns\n",
    "from random import sample"
   ]
  },
  {
   "cell_type": "code",
   "execution_count": 6,
   "id": "indirect-perspective",
   "metadata": {},
   "outputs": [],
   "source": [
    "# start tunnel first: ssh -f [uni]@mimir.dbmi.columbia.edu -L 3307:127.0.0.1:3306 -N\n",
    "\n",
    "conn = pymysql.connect(host=\"127.0.0.1\", \n",
    "                       user=\"\", #uni\n",
    "                       port = ,\n",
    "                       passwd=\"\", #sql password\n",
    "                       db = \"\" ) #database\n",
    "cur = conn.cursor()"
   ]
  },
  {
   "cell_type": "code",
   "execution_count": 3,
   "id": "drawn-wyoming",
   "metadata": {},
   "outputs": [],
   "source": [
    "cur.execute('''select phecode, concept_id_2\n",
    "                from clinical_merge_v5_2022q1.phecode_icd10\n",
    "                join concept on icd10 = concept_code\n",
    "                join concept_relationship on concept_id = concept_id_1 \n",
    "                where vocabulary_id = 'ICD10CM'\n",
    "                and phecode != '';''')\n",
    "\n",
    "phe_condition = pd.DataFrame([i for i in cur.fetchall()], columns=['phecode', 'concept_id'])"
   ]
  },
  {
   "cell_type": "code",
   "execution_count": 4,
   "id": "effective-audience",
   "metadata": {},
   "outputs": [
    {
     "data": {
      "text/plain": [
       "131652"
      ]
     },
     "execution_count": 4,
     "metadata": {},
     "output_type": "execute_result"
    }
   ],
   "source": [
    "len(phe_condition)"
   ]
  },
  {
   "cell_type": "code",
   "execution_count": 7,
   "id": "boolean-panama",
   "metadata": {},
   "outputs": [],
   "source": [
    "cur.execute('''select pat_mrn_id, condition_concept_id, condition_start_date\n",
    "                from condition_occurrence\n",
    "                inner join covid_patient2person on person_id_2020 = person_id;''')\n",
    "\n",
    "prev_condition_data = pd.DataFrame([i for i in cur.fetchall()], columns=['pat_mrn_id', 'concept_id', 'condition_start'])"
   ]
  },
  {
   "cell_type": "code",
   "execution_count": 9,
   "id": "noble-folks",
   "metadata": {},
   "outputs": [
    {
     "data": {
      "text/plain": [
       "65472496"
      ]
     },
     "execution_count": 9,
     "metadata": {},
     "output_type": "execute_result"
    }
   ],
   "source": [
    "len(prev_condition_data)"
   ]
  },
  {
   "cell_type": "code",
   "execution_count": 21,
   "id": "prepared-permit",
   "metadata": {},
   "outputs": [
    {
     "data": {
      "text/plain": [
       "41234815"
      ]
     },
     "execution_count": 21,
     "metadata": {},
     "output_type": "execute_result"
    }
   ],
   "source": [
    "prev_condition_data_filtered = prev_condition_data[prev_condition_data['concept_id'].isin(list(phe_condition['concept_id']))]\n",
    "len(prev_condition_data_filtered)"
   ]
  },
  {
   "cell_type": "code",
   "execution_count": 22,
   "id": "legislative-talent",
   "metadata": {},
   "outputs": [],
   "source": [
    "prev_phe_data = prev_condition_data_filtered.merge(phe_condition, how='inner', left_on = 'concept_id', right_on='concept_id')[['pat_mrn_id', 'phecode', 'condition_start']]\n"
   ]
  },
  {
   "cell_type": "code",
   "execution_count": 23,
   "id": "answering-calcium",
   "metadata": {},
   "outputs": [
    {
     "data": {
      "text/plain": [
       "182783794"
      ]
     },
     "execution_count": 23,
     "metadata": {},
     "output_type": "execute_result"
    }
   ],
   "source": [
    "len(prev_phe_data)"
   ]
  },
  {
   "cell_type": "code",
   "execution_count": 24,
   "id": "legendary-conclusion",
   "metadata": {},
   "outputs": [],
   "source": [
    "prev_phe_data.to_csv('data/clinical_merge_v5_2020q4_condition_occurrence.csv', index=False)"
   ]
  },
  {
   "cell_type": "code",
   "execution_count": 25,
   "id": "august-garbage",
   "metadata": {},
   "outputs": [],
   "source": [
    "cur.execute('''select *\n",
    "                from user_vr2430.vfinal_1_predict_covid_visits;''')\n",
    "\n",
    "visit_data = pd.DataFrame([i for i in cur.fetchall()], columns=['visit_id','pat_mrn_id', 'st_dt', 'ed_dt'])\n"
   ]
  },
  {
   "cell_type": "code",
   "execution_count": 30,
   "id": "sunrise-leisure",
   "metadata": {},
   "outputs": [],
   "source": [
    "prev_phe_data_visit = prev_phe_data.merge(visit_data, how='inner', left_on = 'pat_mrn_id', right_on = 'pat_mrn_id')"
   ]
  },
  {
   "cell_type": "code",
   "execution_count": 33,
   "id": "confidential-network",
   "metadata": {},
   "outputs": [
    {
     "data": {
      "text/plain": [
       "817275291"
      ]
     },
     "execution_count": 33,
     "metadata": {},
     "output_type": "execute_result"
    }
   ],
   "source": [
    "len(prev_phe_data_visit)"
   ]
  },
  {
   "cell_type": "markdown",
   "id": "registered-intervention",
   "metadata": {},
   "source": [
    "### kernel died as I was exporting table. Just repeating the last step and writing to csv file"
   ]
  },
  {
   "cell_type": "code",
   "execution_count": null,
   "id": "brutal-recording",
   "metadata": {},
   "outputs": [],
   "source": []
  },
  {
   "cell_type": "code",
   "execution_count": 1,
   "id": "popular-links",
   "metadata": {},
   "outputs": [],
   "source": [
    "import pymysql \n",
    "import numpy as np\n",
    "import pandas as pd\n",
    "from datetime import datetime, timedelta\n",
    "from tqdm import tqdm\n",
    "from collections import defaultdict, Counter\n",
    "import _pickle as pickle\n",
    "import random\n",
    "from scipy.stats import epps_singleton_2samp, wasserstein_distance, ks_2samp\n",
    "import matplotlib.pyplot as plt\n",
    "import seaborn as sns\n",
    "from random import sample"
   ]
  },
  {
   "cell_type": "code",
   "execution_count": 2,
   "id": "elect-momentum",
   "metadata": {},
   "outputs": [],
   "source": [
    "# start tunnel first: ssh -f [uni]@mimir.dbmi.columbia.edu -L 3307:127.0.0.1:3306 -N\n",
    "\n",
    "conn = pymysql.connect(host=\"127.0.0.1\", \n",
    "                       user=\"\", #uni\n",
    "                       port = ,\n",
    "                       passwd=\"\", #sql password\n",
    "                       db = \"\" ) #database\n",
    "cur = conn.cursor()"
   ]
  },
  {
   "cell_type": "code",
   "execution_count": 3,
   "id": "enabling-feelings",
   "metadata": {},
   "outputs": [],
   "source": [
    "cur.execute('''select *\n",
    "                from user_vr2430.vfinal_1_predict_covid_visits;''')\n",
    "\n",
    "visit_data = pd.DataFrame([i for i in cur.fetchall()], columns=['visit_id','pat_mrn_id', 'st_dt', 'ed_dt'])\n"
   ]
  },
  {
   "cell_type": "code",
   "execution_count": 12,
   "id": "registered-remark",
   "metadata": {},
   "outputs": [
    {
     "name": "stderr",
     "output_type": "stream",
     "text": [
      "182783795it [27:58, 108891.59it/s]\n"
     ]
    },
    {
     "data": {
      "text/plain": [
       "182783794"
      ]
     },
     "execution_count": 12,
     "metadata": {},
     "output_type": "execute_result"
    }
   ],
   "source": [
    "prev_phe_data = []\n",
    "file = open('data/clinical_merge_v5_2020q4_condition_occurrence.csv', 'r')\n",
    "\n",
    "for line in tqdm(file):\n",
    "    if 'pat_mrn_id' in line:\n",
    "        continue\n",
    "    mrn = int(line.split(',')[0])\n",
    "    phe = float(line.split(',')[1])\n",
    "    dt = datetime.strptime(line.strip().split(',')[2], '%Y-%m-%d').date()\n",
    "    prev_phe_data.append([mrn, phe, dt])\n",
    "    \n",
    "file.close()\n",
    "len(prev_phe_data)"
   ]
  },
  {
   "cell_type": "code",
   "execution_count": 13,
   "id": "blond-exhibition",
   "metadata": {},
   "outputs": [],
   "source": [
    "prev_phe_data = pd.DataFrame(prev_phe_data, columns=['pat_mrn_id','phecode','condition_start'])"
   ]
  },
  {
   "cell_type": "code",
   "execution_count": 14,
   "id": "front-tournament",
   "metadata": {},
   "outputs": [],
   "source": [
    "prev_phe_data_visit = prev_phe_data.merge(visit_data, how='inner', left_on = 'pat_mrn_id', right_on = 'pat_mrn_id')"
   ]
  },
  {
   "cell_type": "code",
   "execution_count": 15,
   "id": "popular-connectivity",
   "metadata": {
    "scrolled": true
   },
   "outputs": [],
   "source": [
    "prev_phe_data_visit_filtered = prev_phe_data_visit[prev_phe_data_visit.condition_start < prev_phe_data_visit.st_dt]"
   ]
  },
  {
   "cell_type": "code",
   "execution_count": 20,
   "id": "arctic-width",
   "metadata": {
    "scrolled": true
   },
   "outputs": [],
   "source": [
    "prev_phe_data_visit_filtered = prev_phe_data_visit_filtered[['phecode', 'visit_id', 'condition_start']]"
   ]
  },
  {
   "cell_type": "code",
   "execution_count": 22,
   "id": "social-election",
   "metadata": {
    "scrolled": true
   },
   "outputs": [],
   "source": [
    "prev_phe_data_visit_filtered.to_csv('data/previous_conditions_phe.csv', index=False)"
   ]
  },
  {
   "cell_type": "code",
   "execution_count": null,
   "id": "least-volume",
   "metadata": {},
   "outputs": [],
   "source": []
  }
 ],
 "metadata": {
  "kernelspec": {
   "display_name": "Python 3",
   "language": "python",
   "name": "python3"
  },
  "language_info": {
   "codemirror_mode": {
    "name": "ipython",
    "version": 3
   },
   "file_extension": ".py",
   "mimetype": "text/x-python",
   "name": "python",
   "nbconvert_exporter": "python",
   "pygments_lexer": "ipython3",
   "version": "3.9.10"
  }
 },
 "nbformat": 4,
 "nbformat_minor": 5
}
