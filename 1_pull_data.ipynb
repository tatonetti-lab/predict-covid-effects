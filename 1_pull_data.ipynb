{
 "cells": [
  {
   "cell_type": "code",
   "execution_count": 1,
   "id": "smooth-generator",
   "metadata": {},
   "outputs": [],
   "source": [
    "import pymysql \n",
    "import numpy as np\n",
    "import pandas as pd\n",
    "from datetime import datetime, timedelta\n",
    "from tqdm import tqdm\n",
    "from collections import defaultdict, Counter\n",
    "import _pickle as pickle\n",
    "import random"
   ]
  },
  {
   "cell_type": "code",
   "execution_count": 20,
   "id": "smaller-visit",
   "metadata": {},
   "outputs": [],
   "source": [
    "# start tunnel first: ssh -f [uni]@mimir.dbmi.columbia.edu -L 3307:127.0.0.1:3306 -N\n",
    "\n",
    "conn = pymysql.connect(host=\"127.0.0.1\", \n",
    "                       user=\"\", #uni\n",
    "                       port = 59435,\n",
    "                       passwd=\"\", #sql password\n",
    "                       db = \"clinical_merge_v5_2020q4\" ) #database\n",
    "cur = conn.cursor()"
   ]
  },
  {
   "cell_type": "markdown",
   "id": "ignored-mortality",
   "metadata": {},
   "source": [
    "# identify visits"
   ]
  },
  {
   "cell_type": "code",
   "execution_count": 3,
   "id": "dimensional-completion",
   "metadata": {},
   "outputs": [
    {
     "data": {
      "text/plain": [
       "(1844018, 1844018, 636063)"
      ]
     },
     "execution_count": 3,
     "metadata": {},
     "output_type": "execute_result"
    }
   ],
   "source": [
    "cur.execute('''select distinct pat_mrn_id, date(hosp_admsn_time), max(date(hosp_disch_time))\n",
    "                from covid_admission\n",
    "                where char_length(pat_mrn_id) = 10 \n",
    "                and hosp_disch_time is not NULL \n",
    "                and date(hosp_admsn_time) != '0000-00-00'\n",
    "                and date(hosp_disch_time) != '0000-00-00'\n",
    "                and (date(hosp_admsn_time) >= '2020-02-01' or date(hosp_disch_time) >= '2020-02-01')\n",
    "                group by pat_mrn_id, date(hosp_admsn_time);''')\n",
    "\n",
    "start_visit_id = 0\n",
    "\n",
    "visit_data = []\n",
    "\n",
    "for mrn, st, ed in cur.fetchall():\n",
    "    visit_data.append([start_visit_id, mrn, st, ed])\n",
    "    start_visit_id += 1\n",
    "    \n",
    "visit_data = np.array(pd.DataFrame(visit_data))\n",
    "    \n",
    "len(visit_data), len(set(visit_data[:,0])), len(set(visit_data[:,1]))"
   ]
  },
  {
   "cell_type": "code",
   "execution_count": 4,
   "id": "original-wallace",
   "metadata": {},
   "outputs": [],
   "source": [
    "number_of_visits = Counter(visit_data[:,1])"
   ]
  },
  {
   "cell_type": "code",
   "execution_count": 5,
   "id": "suburban-floor",
   "metadata": {},
   "outputs": [],
   "source": [
    "cur.execute('''select pat_mrn_id, count(distinct date(hosp_admsn_time))\n",
    "                from covid_admission\n",
    "                where char_length(pat_mrn_id) = 10 \n",
    "                and hosp_disch_time is not NULL \n",
    "                and date(hosp_admsn_time) != '0000-00-00'\n",
    "                and date(hosp_disch_time) != '0000-00-00'\n",
    "                and (date(hosp_admsn_time) >= '2020-02-01' or date(hosp_disch_time) >= '2020-02-01')\n",
    "                group by pat_mrn_id;''')\n",
    "\n",
    "visit_cts = {}\n",
    "for mrn, ct in cur.fetchall():\n",
    "    visit_cts[mrn] = ct"
   ]
  },
  {
   "cell_type": "code",
   "execution_count": 6,
   "id": "structured-sending",
   "metadata": {},
   "outputs": [],
   "source": [
    "for mrn in number_of_visits:\n",
    "    if number_of_visits[mrn] != visit_cts[mrn]:\n",
    "        print(mrn)"
   ]
  },
  {
   "cell_type": "code",
   "execution_count": 7,
   "id": "seven-edition",
   "metadata": {},
   "outputs": [],
   "source": [
    "pd.DataFrame(visit_data, columns=['visit_id', 'pat_mrn_id', 'st_dt', 'ed_dt']).to_csv('data/visits_data.csv', index=False)"
   ]
  },
  {
   "cell_type": "markdown",
   "id": "separate-attendance",
   "metadata": {},
   "source": [
    "## load visit_data into mysql database table named vfinal_1_predict_covid_visit "
   ]
  },
  {
   "cell_type": "code",
   "execution_count": 8,
   "id": "contained-identification",
   "metadata": {},
   "outputs": [
    {
     "data": {
      "text/plain": [
       "(1573113, 1573113)"
      ]
     },
     "execution_count": 8,
     "metadata": {},
     "output_type": "execute_result"
    }
   ],
   "source": [
    "cur.execute('''select distinct visit_id, sex_c, race_1, race_2, race_3, ethnicity, birth_date, zip\n",
    "                from covid_persons\n",
    "                join user_vr2430.vfinal_1_predict_covid_visits using (pat_mrn_id)\n",
    "                where birth_date is not null;''')\n",
    "\n",
    "persons_data = []\n",
    "\n",
    "for i in cur.fetchall():\n",
    "    if i[6] == '0000-00-00 00:00:00':\n",
    "        continue\n",
    "    if i[7] == None:\n",
    "        persons_data.append([i[0], i[1], i[2], i[3], i[4], i[5], i[6], i[7]])\n",
    "    else:\n",
    "        persons_data.append([i[0], i[1], i[2], i[3], i[4], i[5], i[6], i[7][:5]])\n",
    "    \n",
    "persons_data = np.array(pd.DataFrame(persons_data))\n",
    "\n",
    "len(persons_data), len(set(persons_data[:,0]))"
   ]
  },
  {
   "cell_type": "code",
   "execution_count": 9,
   "id": "strange-uruguay",
   "metadata": {},
   "outputs": [
    {
     "data": {
      "text/plain": [
       "(2390214, 718960, 16220)"
      ]
     },
     "execution_count": 9,
     "metadata": {},
     "output_type": "execute_result"
    }
   ],
   "source": [
    "cur.execute('''select visit_id, contact_date, icd10_code\n",
    "                from covid_patients\n",
    "                join user_vr2430.vfinal_1_predict_covid_visits using (pat_mrn_id)\n",
    "                where contact_date >= st_dt and contact_date <= ed_dt;''')\n",
    "\n",
    "conditions = []\n",
    "\n",
    "for i in cur.fetchall():\n",
    "    if i[2] == None:\n",
    "        continue\n",
    "    if ',' in i[2]:\n",
    "        for k in i[2].split(','):\n",
    "            conditions.append([i[0], i[1], k.replace(' ', '')])\n",
    "    else:\n",
    "        conditions.append([i[0], i[1], i[2]])\n",
    "        \n",
    "conditions = np.array(pd.DataFrame(conditions))\n",
    "\n",
    "len(conditions), len(set(conditions[:,0])), len(set(conditions[:,2]))"
   ]
  },
  {
   "cell_type": "code",
   "execution_count": 10,
   "id": "imported-reduction",
   "metadata": {},
   "outputs": [
    {
     "data": {
      "text/plain": [
       "9340"
      ]
     },
     "execution_count": 10,
     "metadata": {},
     "output_type": "execute_result"
    }
   ],
   "source": [
    "cur.execute('''select distinct visit_id\n",
    "               from covid_patients\n",
    "               join user_vr2430.vfinal_1_predict_covid_visits using (pat_mrn_id)\n",
    "               where contact_date >= st_dt and contact_date <= ed_dt\n",
    "               and icd10_code like '%U07.1%';''')\n",
    "\n",
    "covid_visit = [i for i, in cur.fetchall()]\n",
    "len(covid_visit)"
   ]
  },
  {
   "cell_type": "code",
   "execution_count": 13,
   "id": "recreational-lunch",
   "metadata": {},
   "outputs": [
    {
     "data": {
      "text/plain": [
       "9340"
      ]
     },
     "execution_count": 13,
     "metadata": {},
     "output_type": "execute_result"
    }
   ],
   "source": [
    "positive_visits = list(set(persons_data[:,0])&set(covid_visit))\n",
    "positive_visits = list(set(positive_visits)&set(visit_data[:,0]))\n",
    "len(positive_visits)"
   ]
  },
  {
   "cell_type": "code",
   "execution_count": 14,
   "id": "broke-merit",
   "metadata": {},
   "outputs": [
    {
     "data": {
      "text/plain": [
       "(4670, 4670)"
      ]
     },
     "execution_count": 14,
     "metadata": {},
     "output_type": "execute_result"
    }
   ],
   "source": [
    "positive_training_set = random.sample(positive_visits, 4670)\n",
    "positive_eval_set = list(set(positive_visits)-set(positive_training_set))\n",
    "len(positive_training_set), len(positive_eval_set)"
   ]
  },
  {
   "cell_type": "code",
   "execution_count": 15,
   "id": "latin-conditions",
   "metadata": {},
   "outputs": [
    {
     "data": {
      "text/plain": [
       "(18156, 18156, 16550)"
      ]
     },
     "execution_count": 15,
     "metadata": {},
     "output_type": "execute_result"
    }
   ],
   "source": [
    "cur.execute('''select distinct visit_id, pat_mrn_id\n",
    "               from user_vr2430.vfinal_1_predict_covid_visits\n",
    "               join covid_measurements using (pat_mrn_id)\n",
    "               where (proc_id in (400660,400670,400671,400834,400662,400833,400620,400697,400747,400571,400661,400570) \n",
    "                       or component_id in (36079,36100,36101,36105,36137,36189,36308,36309, 36072, 36074, 36081, 36176, 36177, 36182, 36183, 36342) \n",
    "                       or component_loinc_code = 94500)\n",
    "               and ord_value in ('Detected', 'POSITIVE', 'Yes', 'DETECTED', 'YES', 'Detected..', 'Postive', 'Positive','Detected A')\n",
    "               and ordering_date >= st_dt and ordering_date <= ed_dt;''')\n",
    "\n",
    "covid_pos_test_visit = [list(i) for i in cur.fetchall()]\n",
    "\n",
    "covid_pos_test_visit = np.array(pd.DataFrame(covid_pos_test_visit))\n",
    "len(covid_pos_test_visit), len(set(covid_pos_test_visit[:,0])), len(set(covid_pos_test_visit[:,1]))"
   ]
  },
  {
   "cell_type": "code",
   "execution_count": 16,
   "id": "fancy-hawaiian",
   "metadata": {
    "scrolled": true
   },
   "outputs": [
    {
     "data": {
      "text/plain": [
       "(238444, 238444, 130750)"
      ]
     },
     "execution_count": 16,
     "metadata": {},
     "output_type": "execute_result"
    }
   ],
   "source": [
    "cur.execute('''select distinct visit_id, pat_mrn_id\n",
    "               from user_vr2430.vfinal_1_predict_covid_visits\n",
    "               join covid_measurements using (pat_mrn_id)\n",
    "               where (proc_id in (400660,400670,400671,400834,400662,400833,400620,400697,400747,400571,400661,400570) \n",
    "                       or component_id in (36079,36100,36101,36105,36137,36189,36308,36309, 36072, 36074, 36081, 36176, 36177, 36182, 36183, 36342) \n",
    "                       or component_loinc_code = 94500)\n",
    "               and ordering_date >= st_dt and ordering_date <= ed_dt\n",
    "               and ord_value in ('Not Detected', 'NotDetectd', 'Negative', 'SARS-CoV-2 neg', 'Not Detected (External)', 'neg', 'Non detected', 'Not Dectected', 'Undetected', 'Negatvie', 'NOT_DETECT', 'notdetected', 'Not Deteceted', 'ND', 'Note Detected', 'not dtected', 'not  detected', 'non-detected', 'not deted', 'Nogative', 'NOPT DETECTED', 'neative', 'No Detected', 'Non-reactive');''')\n",
    "\n",
    "covid_neg_test_visit = [list(i) for i in cur.fetchall()]\n",
    "\n",
    "covid_neg_test_visit = np.array(pd.DataFrame(covid_neg_test_visit))\n",
    "len(covid_neg_test_visit), len(set(covid_neg_test_visit[:,0])), len(set(covid_neg_test_visit[:,1]))"
   ]
  },
  {
   "cell_type": "code",
   "execution_count": 21,
   "id": "american-motivation",
   "metadata": {},
   "outputs": [
    {
     "data": {
      "text/plain": [
       "168"
      ]
     },
     "execution_count": 21,
     "metadata": {},
     "output_type": "execute_result"
    }
   ],
   "source": [
    "cur.execute('''select distinct visit_id, pat_mrn_id\n",
    "               from covid_patients\n",
    "               join user_vr2430.vfinal_1_predict_covid_visits using (pat_mrn_Id)\n",
    "               where contact_date >= st_dt and contact_date <= ed_dt\n",
    "               and icd10_desc like 'COVID-19 ruled out%';''')\n",
    "\n",
    "covid_ruled_out = [list(i) for i in cur.fetchall()]\n",
    "covid_ruled_out = np.array(pd.DataFrame(covid_ruled_out))\n",
    "len(covid_ruled_out)"
   ]
  },
  {
   "cell_type": "code",
   "execution_count": 22,
   "id": "defined-watch",
   "metadata": {},
   "outputs": [
    {
     "data": {
      "text/plain": [
       "901"
      ]
     },
     "execution_count": 22,
     "metadata": {},
     "output_type": "execute_result"
    }
   ],
   "source": [
    "cur.execute('''select distinct visit_id, pat_mrn_id\n",
    "               from covid_patients\n",
    "               join user_vr2430.vfinal_1_predict_covid_visits using (pat_mrn_Id)\n",
    "               where contact_date >= st_dt and contact_date <= ed_dt\n",
    "               and (icd10_code like '%Z86.16%' or icd10_code like '%Z86.19%');''')\n",
    "\n",
    "covid_history = [list(i) for i in cur.fetchall()]\n",
    "covid_history = np.array(pd.DataFrame(covid_history))\n",
    "len(covid_history)"
   ]
  },
  {
   "cell_type": "code",
   "execution_count": 23,
   "id": "lucky-vertex",
   "metadata": {},
   "outputs": [
    {
     "name": "stderr",
     "output_type": "stream",
     "text": [
      "100%|██████████| 9340/9340 [02:58<00:00, 52.27it/s]\n"
     ]
    },
    {
     "data": {
      "text/plain": [
       "(9340, 7625)"
      ]
     },
     "execution_count": 23,
     "metadata": {},
     "output_type": "execute_result"
    }
   ],
   "source": [
    "mrn_positive_visits = []\n",
    "for visit_id in tqdm(positive_visits):\n",
    "    mrn_positive_visits.append(visit_data[:,1][visit_data[:,0]==visit_id][0])\n",
    "    \n",
    "len(mrn_positive_visits), len(set(mrn_positive_visits))"
   ]
  },
  {
   "cell_type": "code",
   "execution_count": 24,
   "id": "dominant-posting",
   "metadata": {},
   "outputs": [
    {
     "name": "stderr",
     "output_type": "stream",
     "text": [
      "100%|██████████| 7625/7625 [02:26<00:00, 52.02it/s]\n"
     ]
    }
   ],
   "source": [
    "visits_mrn_pos_neg = []\n",
    "\n",
    "for pat_mrn_id in tqdm(set(mrn_positive_visits)):\n",
    "    visits_mrn_pos_neg += list(visit_data[:,0][visit_data[:,1]==pat_mrn_id])"
   ]
  },
  {
   "cell_type": "code",
   "execution_count": 25,
   "id": "sporting-payment",
   "metadata": {},
   "outputs": [
    {
     "data": {
      "text/plain": [
       "1483397"
      ]
     },
     "execution_count": 25,
     "metadata": {},
     "output_type": "execute_result"
    }
   ],
   "source": [
    "negative_visits = (set(visit_data[:,0])-set(positive_visits))\n",
    "negative_visits = (set(negative_visits)-set(covid_pos_test_visit[:,0]))\n",
    "negative_visits = (set(negative_visits)-set(covid_history[:,0]))\n",
    "negative_visits = (set(negative_visits)-set(visits_mrn_pos_neg))\n",
    "negative_visits = list(set(negative_visits)&set(persons_data[:,0]))\n",
    "len(negative_visits)"
   ]
  },
  {
   "cell_type": "code",
   "execution_count": 26,
   "id": "geological-starter",
   "metadata": {},
   "outputs": [
    {
     "data": {
      "text/plain": [
       "(4670, 4670)"
      ]
     },
     "execution_count": 26,
     "metadata": {},
     "output_type": "execute_result"
    }
   ],
   "source": [
    "negative_training_set = random.sample(negative_visits, 4670)\n",
    "negative_eval_set = random.sample(list(set(negative_visits)-set(negative_training_set)),4670)\n",
    "\n",
    "len(negative_training_set), len(negative_eval_set)"
   ]
  },
  {
   "cell_type": "code",
   "execution_count": 27,
   "id": "express-tuesday",
   "metadata": {},
   "outputs": [],
   "source": [
    "demographic_variables = ['age_child', 'age_adol', 'age_adult', 'age_senior', 'sex_1', 'AMERICAN INDIAN OR ALASKA', \n",
    "                         'ASIAN', 'BLACK OR AFRICAN AMERICAN', 'NAT.HAWAIIAN/OTH.PACIFIC ', 'WHITE', \n",
    "                         'HISPANIC OR LATINO OR SPANISH ORIGIN']"
   ]
  },
  {
   "cell_type": "code",
   "execution_count": 28,
   "id": "fitted-velvet",
   "metadata": {},
   "outputs": [
    {
     "data": {
      "text/plain": [
       "(18680, 18680)"
      ]
     },
     "execution_count": 28,
     "metadata": {},
     "output_type": "execute_result"
    }
   ],
   "source": [
    "training_and_eval_set = positive_training_set+positive_eval_set+negative_training_set+negative_eval_set\n",
    "len(training_and_eval_set), len(set(training_and_eval_set))"
   ]
  },
  {
   "cell_type": "code",
   "execution_count": 29,
   "id": "experimental-glasgow",
   "metadata": {},
   "outputs": [
    {
     "name": "stderr",
     "output_type": "stream",
     "text": [
      "100%|██████████| 1573113/1573113 [16:28<00:00, 1590.67it/s]\n"
     ]
    }
   ],
   "source": [
    "demographic_matrix = defaultdict(list)\n",
    "\n",
    "for visit_id, sex_c, race_1, race_2, race_3, ethnicity, birth_date, zip_code in tqdm(persons_data):\n",
    "    if visit_id not in training_and_eval_set:\n",
    "        continue\n",
    "    array_line = []\n",
    "    st_dt = visit_data[:,2][visit_data[:,0]==visit_id][0]\n",
    "    age = (st_dt-birth_date.date()).days/365.25\n",
    "    if age < 13:\n",
    "        array_line += [1,0,0,0]\n",
    "    elif age < 19:\n",
    "        array_line += [0,1,0,0]\n",
    "    elif age < 60:\n",
    "        array_line += [0,0,1,0]\n",
    "    else:\n",
    "        array_line += [0,0,0,1]\n",
    "    if sex_c == 1:\n",
    "        array_line.append(1)\n",
    "    else:\n",
    "        array_line.append(0)\n",
    "    for race in demographic_variables[5:10]:\n",
    "        if race in [k for k in [race_1, race_2, race_3] if k != None]:\n",
    "            array_line.append(1)\n",
    "        else:\n",
    "            array_line.append(0)\n",
    "    if ethnicity == 'HISPANIC OR LATINO OR SPANISH ORIGIN':\n",
    "        array_line.append(1)\n",
    "    else:\n",
    "        array_line.append(0)\n",
    "    demographic_matrix[visit_id]=array_line"
   ]
  },
  {
   "cell_type": "code",
   "execution_count": 30,
   "id": "proud-abortion",
   "metadata": {},
   "outputs": [],
   "source": [
    "datetime_variables = ['2020-02-01', '2020-03-01', '2020-04-01', '2020-05-01', '2020-06-01', '2020-07-01', \n",
    "                      '2020-08-01', '2020-09-01', '2020-10-01', '2020-11-01', '2020-12-01', '2021-01-01', \n",
    "                      '2021-02-01', '2021-03-01', '2021-04-01', '2021-05-01', '2021-06-01', '2021-07-01', \n",
    "                      '2021-08-01', '2021-09-01', '2021-10-01', '2021-11-01', '2021-12-01', '2022-01-01',\n",
    "                      '2022-02-01', '2022-03-01', '2022-04-01']\n",
    "\n",
    "datetime_variables = [datetime.strptime(i, '%Y-%m-%d').date() for i in datetime_variables]"
   ]
  },
  {
   "cell_type": "code",
   "execution_count": 31,
   "id": "adequate-chrome",
   "metadata": {},
   "outputs": [
    {
     "name": "stderr",
     "output_type": "stream",
     "text": [
      "100%|██████████| 1573113/1573113 [16:40<00:00, 1572.41it/s]\n"
     ]
    }
   ],
   "source": [
    "datetime_matrix = defaultdict(list)\n",
    "\n",
    "for visit_id, sex_c, race_1, race_2, race_3, ethnicity, birth_date, zip_code in tqdm(persons_data):\n",
    "    if visit_id not in positive_training_set and visit_id not in negative_training_set and visit_id not in positive_eval_set and visit_id not in negative_eval_set:\n",
    "        continue\n",
    "    array_line = []\n",
    "    st_dt = (visit_data[:,2][visit_data[:,0]==visit_id][0])\n",
    "    for m in range(len(datetime_variables)-1):\n",
    "        lo_rg = datetime_variables[m]\n",
    "        up_rg = datetime_variables[m+1]\n",
    "        if st_dt >= lo_rg and st_dt < up_rg:\n",
    "            array_line.append(1)\n",
    "        else:\n",
    "            array_line.append(0)\n",
    "    datetime_matrix[visit_id]=array_line"
   ]
  },
  {
   "cell_type": "code",
   "execution_count": 32,
   "id": "matched-mount",
   "metadata": {},
   "outputs": [
    {
     "data": {
      "text/plain": [
       "(Counter({11: 18680}), 11)"
      ]
     },
     "execution_count": 32,
     "metadata": {},
     "output_type": "execute_result"
    }
   ],
   "source": [
    "Counter([len(i) for i in demographic_matrix.values()]), len(demographic_variables)"
   ]
  },
  {
   "cell_type": "code",
   "execution_count": 33,
   "id": "entitled-afternoon",
   "metadata": {},
   "outputs": [
    {
     "data": {
      "text/plain": [
       "(Counter({26: 18680}), 27)"
      ]
     },
     "execution_count": 33,
     "metadata": {},
     "output_type": "execute_result"
    }
   ],
   "source": [
    "Counter([len(i) for i in datetime_matrix.values()]), len(datetime_variables)"
   ]
  },
  {
   "cell_type": "code",
   "execution_count": 34,
   "id": "driving-question",
   "metadata": {},
   "outputs": [
    {
     "data": {
      "text/plain": [
       "(18680, 18680)"
      ]
     },
     "execution_count": 34,
     "metadata": {},
     "output_type": "execute_result"
    }
   ],
   "source": [
    "len(set(demographic_matrix.keys())), len(set(datetime_matrix.keys()))"
   ]
  },
  {
   "cell_type": "code",
   "execution_count": 35,
   "id": "distinguished-grocery",
   "metadata": {},
   "outputs": [],
   "source": [
    "diag_variables = list(set([i.split('.')[0] for i in set(conditions[:,2])]))"
   ]
  },
  {
   "cell_type": "code",
   "execution_count": 36,
   "id": "dying-token",
   "metadata": {},
   "outputs": [
    {
     "data": {
      "text/plain": [
       "['U07.0', 'U07.1']"
      ]
     },
     "execution_count": 36,
     "metadata": {},
     "output_type": "execute_result"
    }
   ],
   "source": [
    "[i for i in set(conditions[:,2]) if 'U07' in i]"
   ]
  },
  {
   "cell_type": "code",
   "execution_count": 37,
   "id": "accompanied-retail",
   "metadata": {},
   "outputs": [
    {
     "name": "stderr",
     "output_type": "stream",
     "text": [
      "100%|██████████| 1573113/1573113 [18:15<00:00, 1435.87it/s]\n"
     ]
    }
   ],
   "source": [
    "diag_matrix = defaultdict(list)\n",
    "\n",
    "for visit_id, sex_c, race_1, race_2, race_3, ethnicity, birth_date, zip_code in tqdm(persons_data):\n",
    "    if visit_id not in training_and_eval_set:\n",
    "        continue\n",
    "    array_line = []\n",
    "    diags = set(conditions[:,2][conditions[:,0]==visit_id])\n",
    "    diags = [k.split('.')[0] for k in diags if k != 'U07.1']\n",
    "    for d in diag_variables:\n",
    "        if d in diags:\n",
    "            array_line.append(1)\n",
    "        else:\n",
    "            array_line.append(0)\n",
    "    diag_matrix[visit_id]=array_line\n",
    "    "
   ]
  },
  {
   "cell_type": "code",
   "execution_count": 38,
   "id": "sufficient-disorder",
   "metadata": {},
   "outputs": [
    {
     "data": {
      "text/plain": [
       "(Counter({1600: 18680}), 1600)"
      ]
     },
     "execution_count": 38,
     "metadata": {},
     "output_type": "execute_result"
    }
   ],
   "source": [
    "Counter([len(i) for i in diag_matrix.values()]), len(diag_variables)"
   ]
  },
  {
   "cell_type": "code",
   "execution_count": 39,
   "id": "corporate-force",
   "metadata": {},
   "outputs": [],
   "source": [
    "pickle.dump(demographic_matrix, open('data/demographic_matrix.p', 'wb'))\n",
    "pickle.dump(datetime_matrix, open('data/datetime_matrix.p', 'wb'))\n",
    "pickle.dump(diag_matrix, open('data/diag_matrix.p', 'wb'))\n",
    "pickle.dump(demographic_variables, open('data/demographic_variables.p', 'wb'))\n",
    "pickle.dump(datetime_variables, open('data/datetime_variables.p', 'wb'))\n",
    "pickle.dump(diag_variables, open('data/diag_variables.p', 'wb'))\n"
   ]
  },
  {
   "cell_type": "code",
   "execution_count": 40,
   "id": "limiting-magazine",
   "metadata": {},
   "outputs": [],
   "source": [
    "pickle.dump(visit_data, open('data/visit_data.p', 'wb'))\n",
    "pickle.dump(persons_data, open('data/persons_data.p', 'wb'))\n",
    "pickle.dump(conditions, open('data/conditions.p', 'wb'))\n",
    "pickle.dump(covid_visit, open('data/covid_visit.p', 'wb'))\n",
    "pickle.dump(positive_visits, open('data/positive_visits.p', 'wb'))\n",
    "pickle.dump(covid_pos_test_visit, open('data/covid_pos_test_visit.p', 'wb'))\n",
    "pickle.dump(covid_neg_test_visit, open('data/covid_neg_test_visit.p', 'wb'))\n",
    "pickle.dump(negative_visits, open('data/negative_visits.p', 'wb'))\n",
    "pickle.dump(positive_training_set, open('data/positive_training_set.p', 'wb'))\n",
    "pickle.dump(negative_training_set, open('data/negative_training_set.p', 'wb'))\n",
    "pickle.dump(positive_eval_set, open('data/positive_eval_set.p', 'wb'))\n",
    "pickle.dump(negative_eval_set, open('data/negative_eval_set.p', 'wb'))"
   ]
  },
  {
   "cell_type": "code",
   "execution_count": 41,
   "id": "informative-progressive",
   "metadata": {},
   "outputs": [
    {
     "data": {
      "text/plain": [
       "16220"
      ]
     },
     "execution_count": 41,
     "metadata": {},
     "output_type": "execute_result"
    }
   ],
   "source": [
    "len(set(conditions[:,2]))"
   ]
  },
  {
   "cell_type": "code",
   "execution_count": null,
   "id": "alleged-albuquerque",
   "metadata": {},
   "outputs": [],
   "source": []
  }
 ],
 "metadata": {
  "kernelspec": {
   "display_name": "Python 3",
   "language": "python",
   "name": "python3"
  },
  "language_info": {
   "codemirror_mode": {
    "name": "ipython",
    "version": 3
   },
   "file_extension": ".py",
   "mimetype": "text/x-python",
   "name": "python",
   "nbconvert_exporter": "python",
   "pygments_lexer": "ipython3",
   "version": "3.9.10"
  }
 },
 "nbformat": 4,
 "nbformat_minor": 5
}
