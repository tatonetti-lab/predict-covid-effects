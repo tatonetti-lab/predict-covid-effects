{
 "cells": [
  {
   "cell_type": "code",
   "execution_count": 2,
   "id": "wrong-brush",
   "metadata": {},
   "outputs": [],
   "source": [
    "import pymysql \n",
    "import numpy as np\n",
    "import pandas as pd\n",
    "from datetime import datetime, timedelta\n",
    "from tqdm import tqdm\n",
    "from collections import defaultdict, Counter\n",
    "import _pickle as pickle\n",
    "import random\n",
    "import gzip"
   ]
  },
  {
   "cell_type": "code",
   "execution_count": 3,
   "id": "solved-scene",
   "metadata": {
    "scrolled": true
   },
   "outputs": [],
   "source": [
    "rf = pickle.load(open('data/random_forest_model_depth_69_trees_190.p', 'rb'))"
   ]
  },
  {
   "cell_type": "code",
   "execution_count": 4,
   "id": "outside-academy",
   "metadata": {},
   "outputs": [],
   "source": [
    "datetime_matrix = {}"
   ]
  },
  {
   "cell_type": "code",
   "execution_count": 5,
   "id": "photographic-sequence",
   "metadata": {},
   "outputs": [
    {
     "name": "stderr",
     "output_type": "stream",
     "text": [
      "1573113it [00:08, 182969.88it/s]\n"
     ]
    }
   ],
   "source": [
    "file = open('data/all_visit_date_matrix.csv', 'r')\n",
    "for line in tqdm(file):\n",
    "    visit_id = int(line.split(',')[0])\n",
    "    data = [int(i) for i in line.strip().split(',')[1:]]\n",
    "    datetime_matrix[visit_id] = data\n",
    "file.close()"
   ]
  },
  {
   "cell_type": "code",
   "execution_count": 6,
   "id": "after-double",
   "metadata": {},
   "outputs": [
    {
     "data": {
      "text/plain": [
       "Counter({26: 1573113})"
      ]
     },
     "execution_count": 6,
     "metadata": {},
     "output_type": "execute_result"
    }
   ],
   "source": [
    "Counter([len(i) for i in datetime_matrix.values()])"
   ]
  },
  {
   "cell_type": "code",
   "execution_count": 7,
   "id": "commercial-shoot",
   "metadata": {},
   "outputs": [],
   "source": [
    "demog_matrix = {}"
   ]
  },
  {
   "cell_type": "code",
   "execution_count": 8,
   "id": "growing-debut",
   "metadata": {},
   "outputs": [
    {
     "name": "stderr",
     "output_type": "stream",
     "text": [
      "1573113it [00:05, 299185.48it/s]\n"
     ]
    }
   ],
   "source": [
    "file = open('data/all_visit_demographic_matrix.csv', 'r')\n",
    "for line in tqdm(file):\n",
    "    visit_id = int(line.split(',')[0])\n",
    "    data = [int(i) for i in line.strip().split(',')[1:]]\n",
    "    demog_matrix[visit_id] = data\n",
    "    \n",
    "file.close()"
   ]
  },
  {
   "cell_type": "code",
   "execution_count": 9,
   "id": "mediterranean-anniversary",
   "metadata": {},
   "outputs": [
    {
     "data": {
      "text/plain": [
       "Counter({11: 1573113})"
      ]
     },
     "execution_count": 9,
     "metadata": {},
     "output_type": "execute_result"
    }
   ],
   "source": [
    "Counter([len(i) for i in demog_matrix.values()])"
   ]
  },
  {
   "cell_type": "code",
   "execution_count": 10,
   "id": "falling-costa",
   "metadata": {},
   "outputs": [],
   "source": [
    "file_out = open('data/rfr_model_depth_69_trees_190_preds.csv', 'w')"
   ]
  },
  {
   "cell_type": "code",
   "execution_count": 12,
   "id": "clear-notebook",
   "metadata": {
    "scrolled": true
   },
   "outputs": [
    {
     "name": "stderr",
     "output_type": "stream",
     "text": [
      "1573113it [6:24:42, 68.15it/s]\n"
     ]
    }
   ],
   "source": [
    "file = open('data/all_visit_diag_matrix.csv', 'r')\n",
    "for line in tqdm(file):\n",
    "    visit_id = int(line.split(',')[0])\n",
    "    if visit_id not in datetime_matrix or visit_id not in demog_matrix:\n",
    "        continue\n",
    "    data = [int(i) for i in line.strip().split(',')[1:]]\n",
    "    full_matrix = demog_matrix[visit_id]+datetime_matrix[visit_id]+data\n",
    "    file_out.write(str(visit_id) + ',')\n",
    "    file_out.write(str(rf.predict_proba(np.array(full_matrix).reshape(1,-1))[:,1][0]) +'\\n')\n",
    "file.close()"
   ]
  },
  {
   "cell_type": "code",
   "execution_count": 13,
   "id": "compliant-arkansas",
   "metadata": {},
   "outputs": [],
   "source": [
    "file.close()\n",
    "file_out.close()"
   ]
  },
  {
   "cell_type": "code",
   "execution_count": 15,
   "id": "fifteen-elite",
   "metadata": {},
   "outputs": [
    {
     "name": "stderr",
     "output_type": "stream",
     "text": [
      "1573113it [00:01, 889810.05it/s]\n"
     ]
    }
   ],
   "source": [
    "visit_id_covid_probability = {}\n",
    "file = open('data/rfr_model_depth_69_trees_190_preds.csv', 'r')\n",
    "\n",
    "for line in tqdm(file):\n",
    "    visit_id = int(line.split(',')[0])\n",
    "    prob = float(line.strip().split(',')[1])\n",
    "    visit_id_covid_probability[visit_id] = prob\n",
    "file.close()"
   ]
  },
  {
   "cell_type": "code",
   "execution_count": 17,
   "id": "consecutive-baghdad",
   "metadata": {},
   "outputs": [
    {
     "data": {
      "text/plain": [
       "(1573113, 1573113, 1573113)"
      ]
     },
     "execution_count": 17,
     "metadata": {},
     "output_type": "execute_result"
    }
   ],
   "source": [
    "len(visit_id_covid_probability), len(visit_id_covid_probability.keys()), len(set(visit_id_covid_probability))"
   ]
  },
  {
   "cell_type": "code",
   "execution_count": null,
   "id": "charming-universal",
   "metadata": {},
   "outputs": [],
   "source": []
  }
 ],
 "metadata": {
  "kernelspec": {
   "display_name": "Python 3",
   "language": "python",
   "name": "python3"
  },
  "language_info": {
   "codemirror_mode": {
    "name": "ipython",
    "version": 3
   },
   "file_extension": ".py",
   "mimetype": "text/x-python",
   "name": "python",
   "nbconvert_exporter": "python",
   "pygments_lexer": "ipython3",
   "version": "3.9.10"
  }
 },
 "nbformat": 4,
 "nbformat_minor": 5
}
