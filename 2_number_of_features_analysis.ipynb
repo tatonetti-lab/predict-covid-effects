{
 "cells": [
  {
   "cell_type": "code",
   "execution_count": 1,
   "id": "discrete-intersection",
   "metadata": {},
   "outputs": [],
   "source": [
    "import numpy as np\n",
    "import pandas as pd\n",
    "from datetime import datetime, timedelta\n",
    "from tqdm import tqdm\n",
    "from collections import defaultdict, Counter\n",
    "import _pickle as pickle\n",
    "import random\n",
    "from sklearn.ensemble import RandomForestClassifier\n",
    "import matplotlib.pyplot as plt\n",
    "import seaborn as sns\n",
    "from sklearn.metrics import roc_curve, auc\n",
    "from scipy.stats import fisher_exact"
   ]
  },
  {
   "cell_type": "code",
   "execution_count": 2,
   "id": "photographic-gnome",
   "metadata": {},
   "outputs": [],
   "source": [
    "demographic_matrix = pickle.load(open('data/demographic_matrix.p', 'rb'))\n",
    "demographic_variables = pickle.load(open('data/demographic_variables.p', 'rb'))\n",
    "datetime_matrix = pickle.load(open('data/datetime_matrix.p', 'rb'))\n",
    "datetime_variables = pickle.load(open('data/datetime_variables.p', 'rb'))\n",
    "diag_matrix = pickle.load(open('data/diag_matrix.p', 'rb'))\n",
    "diag_variables = pickle.load(open('data/diag_variables.p', 'rb'))\n",
    "negative_training_set = pickle.load(open('data/negative_training_set.p', 'rb'))\n",
    "positive_training_set = pickle.load(open('data/positive_training_set.p', 'rb'))"
   ]
  },
  {
   "cell_type": "code",
   "execution_count": 3,
   "id": "aging-location",
   "metadata": {
    "scrolled": false
   },
   "outputs": [],
   "source": [
    "full_matrix = []\n",
    "\n",
    "for pat_enc_csn_id in positive_training_set:\n",
    "    to_add = demographic_matrix[pat_enc_csn_id]\n",
    "    to_add += datetime_matrix[pat_enc_csn_id]\n",
    "    to_add += diag_matrix[pat_enc_csn_id]\n",
    "    full_matrix.append(to_add)\n",
    "    \n",
    "for pat_enc_csn_id in negative_training_set:\n",
    "    to_add = demographic_matrix[pat_enc_csn_id]\n",
    "    to_add += datetime_matrix[pat_enc_csn_id]\n",
    "    to_add += diag_matrix[pat_enc_csn_id]\n",
    "    full_matrix.append(to_add)"
   ]
  },
  {
   "cell_type": "code",
   "execution_count": 4,
   "id": "ultimate-cancer",
   "metadata": {
    "scrolled": true
   },
   "outputs": [
    {
     "data": {
      "text/plain": [
       "Counter({1637: 9340})"
      ]
     },
     "execution_count": 4,
     "metadata": {},
     "output_type": "execute_result"
    }
   ],
   "source": [
    "Counter([len(i) for i in full_matrix])"
   ]
  },
  {
   "cell_type": "code",
   "execution_count": 5,
   "id": "resident-customer",
   "metadata": {},
   "outputs": [
    {
     "data": {
      "text/plain": [
       "1637"
      ]
     },
     "execution_count": 5,
     "metadata": {},
     "output_type": "execute_result"
    }
   ],
   "source": [
    "full_variable_list = demographic_variables + datetime_variables[:-1] + diag_variables\n",
    "len(full_variable_list)"
   ]
  },
  {
   "cell_type": "code",
   "execution_count": 6,
   "id": "faced-prototype",
   "metadata": {},
   "outputs": [
    {
     "data": {
      "text/plain": [
       "(4670, 4670)"
      ]
     },
     "execution_count": 6,
     "metadata": {},
     "output_type": "execute_result"
    }
   ],
   "source": [
    "len(positive_training_set), len(negative_training_set)"
   ]
  },
  {
   "cell_type": "code",
   "execution_count": 7,
   "id": "athletic-stereo",
   "metadata": {},
   "outputs": [
    {
     "data": {
      "text/plain": [
       "(9340, Counter({1: 4670, 0: 4670}))"
      ]
     },
     "execution_count": 7,
     "metadata": {},
     "output_type": "execute_result"
    }
   ],
   "source": [
    "covid_non_covid_visits = [1 for i in range(4670)] + [0 for i in range(4670)]\n",
    "len(covid_non_covid_visits), Counter(covid_non_covid_visits)"
   ]
  },
  {
   "cell_type": "code",
   "execution_count": 8,
   "id": "ruled-design",
   "metadata": {},
   "outputs": [],
   "source": [
    "full_matrix = np.array(full_matrix)"
   ]
  },
  {
   "cell_type": "code",
   "execution_count": 9,
   "id": "resistant-state",
   "metadata": {},
   "outputs": [],
   "source": [
    "negative_testing_set = pickle.load(open('data/negative_eval_set.p', 'rb'))\n",
    "positive_testing_set = pickle.load(open('data/positive_eval_set.p', 'rb'))"
   ]
  },
  {
   "cell_type": "code",
   "execution_count": 10,
   "id": "arranged-fundamental",
   "metadata": {},
   "outputs": [],
   "source": [
    "full_matrix_testing = []\n",
    "\n",
    "for pat_enc_csn_id in positive_testing_set:\n",
    "    to_add = demographic_matrix[pat_enc_csn_id]\n",
    "    to_add += datetime_matrix[pat_enc_csn_id]\n",
    "    to_add += diag_matrix[pat_enc_csn_id]\n",
    "    full_matrix_testing.append(to_add)\n",
    "    \n",
    "for pat_enc_csn_id in negative_testing_set:\n",
    "    to_add = demographic_matrix[pat_enc_csn_id]\n",
    "    to_add += datetime_matrix[pat_enc_csn_id]\n",
    "    to_add += diag_matrix[pat_enc_csn_id]\n",
    "    full_matrix_testing.append(to_add)"
   ]
  },
  {
   "cell_type": "code",
   "execution_count": 11,
   "id": "minus-thing",
   "metadata": {},
   "outputs": [
    {
     "data": {
      "text/plain": [
       "(9340, Counter({1: 4670, 0: 4670}))"
      ]
     },
     "execution_count": 11,
     "metadata": {},
     "output_type": "execute_result"
    }
   ],
   "source": [
    "covid_non_covid_visits_testing = [1 for i in range(4670)] + [0 for i in range(4670)]\n",
    "len(covid_non_covid_visits_testing), Counter(covid_non_covid_visits_testing)"
   ]
  },
  {
   "cell_type": "code",
   "execution_count": 12,
   "id": "arbitrary-threshold",
   "metadata": {},
   "outputs": [],
   "source": [
    "full_matrix_testing = np.array(full_matrix_testing)"
   ]
  },
  {
   "cell_type": "code",
   "execution_count": 14,
   "id": "binary-purpose",
   "metadata": {
    "scrolled": true
   },
   "outputs": [],
   "source": [
    "varaiable_sort_index_random = random.sample(range(0,1637), 1637)"
   ]
  },
  {
   "cell_type": "code",
   "execution_count": 17,
   "id": "together-liechtenstein",
   "metadata": {},
   "outputs": [
    {
     "name": "stderr",
     "output_type": "stream",
     "text": [
      "100%|██████████| 1637/1637 [6:17:10<00:00, 13.82s/it]  \n"
     ]
    }
   ],
   "source": [
    "training_oob_auroc_random = {}\n",
    "training_auroc_random = {}\n",
    "testing_auroc_random = {}\n",
    "\n",
    "\n",
    "for d in tqdm(range(1,1638)):\n",
    "    partial_matrix = full_matrix[:,varaiable_sort_index_random[:d]]\n",
    "    partial_matrix_testing = full_matrix_testing[:,varaiable_sort_index_random[:d]]\n",
    "    rf = RandomForestClassifier(n_estimators=200, random_state=1, oob_score=True)\n",
    "    rf.fit(partial_matrix, covid_non_covid_visits)\n",
    "    estimate_covid_oob = rf.oob_decision_function_[:,1]\n",
    "    estimate_covid = rf.predict_proba(partial_matrix)[:,1]\n",
    "    testing_covid = rf.predict_proba(partial_matrix_testing)[:,1]\n",
    "    false_positive_rate, true_positive_rate, thresholds = roc_curve(covid_non_covid_visits, estimate_covid_oob)\n",
    "    roc_auc = auc(false_positive_rate, true_positive_rate)\n",
    "    training_oob_auroc_random[d]=roc_auc\n",
    "    false_positive_rate, true_positive_rate, thresholds = roc_curve(covid_non_covid_visits, estimate_covid)\n",
    "    roc_auc = auc(false_positive_rate, true_positive_rate)\n",
    "    training_auroc_random[d]=roc_auc\n",
    "    false_positive_rate, true_positive_rate, thresholds = roc_curve(covid_non_covid_visits_testing, testing_covid)\n",
    "    roc_auc = auc(false_positive_rate, true_positive_rate)\n",
    "    testing_auroc_random[d]=roc_auc"
   ]
  },
  {
   "cell_type": "code",
   "execution_count": 18,
   "id": "weird-press",
   "metadata": {},
   "outputs": [
    {
     "data": {
      "text/plain": [
       "Text(0, 0.5, 'AUROC')"
      ]
     },
     "execution_count": 18,
     "metadata": {},
     "output_type": "execute_result"
    },
    {
     "data": {
      "image/png": "[encoded data removed]",
      "text/plain": [
       "<Figure size 432x288 with 1 Axes>"
      ]
     },
     "metadata": {
      "needs_background": "light"
     },
     "output_type": "display_data"
    }
   ],
   "source": [
    "plt.plot(list(training_auroc_random.keys()), list(training_auroc_random.values()), label = 'Training')\n",
    "plt.plot(list(training_oob_auroc_random.keys()), list(training_oob_auroc_random.values()), label = 'Training OOB')\n",
    "plt.plot(list(testing_auroc_random.keys()), list(testing_auroc_random.values()), label = 'Testing')\n",
    "plt.legend()\n",
    "plt.xlabel('number of features')\n",
    "plt.ylabel('AUROC')"
   ]
  },
  {
   "cell_type": "code",
   "execution_count": 19,
   "id": "paperback-insured",
   "metadata": {},
   "outputs": [],
   "source": [
    "pickle.dump(varaiable_sort_index_random, open('data/variable_sort_index_random.p', 'wb'))\n",
    "pickle.dump(training_auroc_random, open('data/training_auroc_random.p', 'wb'))\n",
    "pickle.dump(training_oob_auroc_random, open('data/training_oob_auroc_random.p', 'wb'))\n",
    "pickle.dump(testing_auroc_random, open('data/testing_auroc_random.p', 'wb'))"
   ]
  },
  {
   "cell_type": "code",
   "execution_count": null,
   "id": "broad-hearing",
   "metadata": {},
   "outputs": [],
   "source": []
  }
 ],
 "metadata": {
  "kernelspec": {
   "display_name": "Python 3",
   "language": "python",
   "name": "python3"
  },
  "language_info": {
   "codemirror_mode": {
    "name": "ipython",
    "version": 3
   },
   "file_extension": ".py",
   "mimetype": "text/x-python",
   "name": "python",
   "nbconvert_exporter": "python",
   "pygments_lexer": "ipython3",
   "version": "3.9.10"
  }
 },
 "nbformat": 4,
 "nbformat_minor": 5
}
