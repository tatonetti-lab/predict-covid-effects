{
 "cells": [
  {
   "cell_type": "code",
   "execution_count": 1,
   "id": "excellent-memphis",
   "metadata": {},
   "outputs": [],
   "source": [
    "import pymysql \n",
    "import numpy as np\n",
    "import pandas as pd\n",
    "from datetime import datetime, timedelta\n",
    "from tqdm import tqdm\n",
    "from collections import defaultdict, Counter\n",
    "import _pickle as pickle\n",
    "import random"
   ]
  },
  {
   "cell_type": "code",
   "execution_count": 6,
   "id": "innovative-midwest",
   "metadata": {},
   "outputs": [],
   "source": [
    "datetime_variables = ['2020-02-01', '2020-03-01', '2020-04-01', '2020-05-01', '2020-06-01', '2020-07-01', \n",
    "                      '2020-08-01', '2020-09-01', '2020-10-01', '2020-11-01', '2020-12-01', '2021-01-01', \n",
    "                      '2021-02-01', '2021-03-01', '2021-04-01', '2021-05-01', '2021-06-01', '2021-07-01', \n",
    "                      '2021-08-01', '2021-09-01', '2021-10-01', '2021-11-01', '2021-12-01', '2022-01-01',\n",
    "                      '2022-02-01', '2022-03-01', '2022-04-01']\n",
    "datetime_variables = [datetime.strptime(i, '%Y-%m-%d').date() for i in datetime_variables]"
   ]
  },
  {
   "cell_type": "code",
   "execution_count": 8,
   "id": "unnecessary-scoop",
   "metadata": {},
   "outputs": [],
   "source": [
    "visit_data = pickle.load(open('data/visit_data.p', 'rb'))\n",
    "persons_data = pickle.load(open('data/persons_data.p', 'rb'))"
   ]
  },
  {
   "cell_type": "code",
   "execution_count": 10,
   "id": "blind-inflation",
   "metadata": {},
   "outputs": [
    {
     "name": "stderr",
     "output_type": "stream",
     "text": [
      "100%|██████████| 1573113/1573113 [14:48:37<00:00, 29.50it/s]  \n"
     ]
    }
   ],
   "source": [
    "date_matrix = open('data/all_visit_date_matrix.csv', 'w') \n",
    "\n",
    "for visit_id, sex_c, race_1, race_2, race_3, ethnicity, birth_date, zip_code in tqdm(persons_data):\n",
    "    date_matrix.write(str(visit_id))\n",
    "    st_dt = (visit_data[:,2][visit_data[:,0]==visit_id][0])\n",
    "    for m in range(len(datetime_variables)-1):\n",
    "        lo_rg = datetime_variables[m]\n",
    "        up_rg = datetime_variables[m+1]\n",
    "        if st_dt >= lo_rg and st_dt < up_rg:\n",
    "            date_matrix.write(',1')\n",
    "        else:\n",
    "            date_matrix.write(',0')\n",
    "    date_matrix.write('\\n')\n",
    "    \n",
    "date_matrix.close()"
   ]
  },
  {
   "cell_type": "code",
   "execution_count": null,
   "id": "identified-corporation",
   "metadata": {},
   "outputs": [],
   "source": []
  }
 ],
 "metadata": {
  "kernelspec": {
   "display_name": "Python 3",
   "language": "python",
   "name": "python3"
  },
  "language_info": {
   "codemirror_mode": {
    "name": "ipython",
    "version": 3
   },
   "file_extension": ".py",
   "mimetype": "text/x-python",
   "name": "python",
   "nbconvert_exporter": "python",
   "pygments_lexer": "ipython3",
   "version": "3.9.10"
  }
 },
 "nbformat": 4,
 "nbformat_minor": 5
}
